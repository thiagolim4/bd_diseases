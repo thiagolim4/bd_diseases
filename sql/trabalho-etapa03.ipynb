{
 "cells": [
  {
   "cell_type": "code",
   "execution_count": 1,
   "metadata": {},
   "outputs": [],
   "source": [
    "%defaultDatasource jdbc:h2:mem:db"
   ]
  },
  {
   "cell_type": "markdown",
   "metadata": {},
   "source": [
    "# Base de Dados"
   ]
  },
  {
   "cell_type": "code",
   "execution_count": 2,
   "metadata": {},
   "outputs": [],
   "source": [
    "CREATE TABLE column_3C_weka (\n",
    "    pelvic_incidence DOUBLE,\n",
    "    pelvic_tilt DOUBLE,\n",
    "    lumbar_lordosis_angle DOUBLE,\n",
    "    sacral_slope DOUBLE,\n",
    "    pelvic_radius DOUBLE,\n",
    "    degree_spondylolisthesis DOUBLE,\n",
    "    class VARCHAR(50)\n",
    ") AS SELECT\n",
    "    pelvic_incidence,\n",
    "    pelvic_tilt,\n",
    "    lumbar_lordosis_angle,\n",
    "    sacral_slope,\n",
    "    pelvic_radius,\n",
    "    degree_spondylolisthesis,\n",
    "    class\n",
    "FROM CSVREAD('../data/column_3C_weka.csv');\n",
    "\n",
    "ALTER TABLE column_3c_weka\n",
    "ADD idPaciente INTEGER AUTO_INCREMENT;"
   ]
  },
  {
   "cell_type": "code",
   "execution_count": 3,
   "metadata": {},
   "outputs": [
    {
     "data": {
      "application/vnd.jupyter.widget-view+json": {
       "model_id": "4a4d106c-c6b7-461e-a86b-351e5fd35a6e",
       "version_major": 2,
       "version_minor": 0
      },
      "method": "display_data"
     },
     "metadata": {},
     "output_type": "display_data"
    }
   ],
   "source": [
    "SELECT * FROM column_3c_weka;"
   ]
  },
  {
   "cell_type": "markdown",
   "metadata": {},
   "source": [
    "# Modelo Conceitual\n",
    "\n",
    "### Etapa 1:\n",
    "![uml-etapa01](../img/uml-etapa01.png)\n",
    "\n",
    "### Etapa 2:\n",
    "![uml-etapa02](../img/UML-etapa-02.png)\n",
    "\n",
    "\n",
    "### Etapa 3:\n",
    "![uml-etapa03](../img/UML-etapa-03.png)\n",
    "\n",
    "#### Motivo\n",
    "* Modificação nos atributos da classe Paciente: agora ela possui somente o identificador do paciente chamado idPaciente, os atributos referentes à situação do mesmo (como Incidência Pélvica, Versão Pélvica, etc) foram transferidos para outras classes a fim de que se pudesse, caso surgisse uma nova característica (novo tipo de medição da Pelve, por exemplo) seria possível adicioná-la ao banco;  \n",
    "* Seguindo a modificação do Paciente, foram adicionadas duas novas classes: Possui e Característica. Cada Paciente possui várias características (N:N), sendo que o valor do relacionamento entre o Paciente e sua Característica fica na classe intermediária Possui - por exemplo, João (Paciente) tem uma Incidência Pélvica (Característica) de valor 60° (Possui) e Maria (Paciente) tem uma Incidência Pélvica (Característica) de 70° (Possui);  \n",
    "* Mudança no nome da classe Doença para Classificação e tipoDoença para classe, pois havia certos pacientes classificados como “Normal”, o que não caracterizava um problema.  \n"
   ]
  },
  {
   "cell_type": "markdown",
   "metadata": {},
   "source": [
    "# Modelo Logico\n",
    "\n",
    "![modelo-logico](../img/modelo-logico.png)"
   ]
  },
  {
   "cell_type": "markdown",
   "metadata": {},
   "source": [
    "# Tabelas Relacionais"
   ]
  },
  {
   "cell_type": "code",
   "execution_count": 4,
   "metadata": {},
   "outputs": [],
   "source": [
    "DROP TABLE IF EXISTS ClassificacaoTemSintoma;\n",
    "DROP TABLE IF EXISTS PacientePossuiCaracteristica;\n",
    "DROP TABLE IF EXISTS Caracteristica;\n",
    "DROP TABLE IF EXISTS Sintoma;\n",
    "DROP TABLE IF EXISTS Classificacao;\n",
    "DROP TABLE IF EXISTS Paciente;\n",
    "\n",
    "CREATE TABLE Caracteristica (\n",
    "    nomeCaracteristica VARCHAR(50),\n",
    "    PRIMARY KEY(nomeCaracteristica)\n",
    ");\n",
    "\n",
    "CREATE TABLE Sintoma (\n",
    "    idSintoma INTEGER AUTO_INCREMENT,\n",
    "    localizacaoCorpo VARCHAR(50),\n",
    "    descricao VARCHAR(200),\n",
    "    idEspecializacao INTEGER,\n",
    "    PRIMARY KEY(idSintoma),\n",
    "    FOREIGN KEY (idEspecializacao)\n",
    "        REFERENCES Sintoma (idSintoma)\n",
    "            ON DELETE CASCADE\n",
    "            ON UPDATE CASCADE\n",
    ");\n",
    "\n",
    "CREATE TABLE Classificacao (\n",
    "    classe VARCHAR(50),\n",
    "    PRIMARY KEY(classe)\n",
    ");\n",
    "\n",
    "CREATE TABLE ClassificacaoTemSintoma (\n",
    "    IdClassificacaoTemSintoma INTEGER AUTO_INCREMENT,\n",
    "    classe VARCHAR(50),\n",
    "    idSintoma INTEGER,\n",
    "    FOREIGN KEY(classe)\n",
    "        REFERENCES Classificacao(classe)\n",
    "            ON DELETE CASCADE\n",
    "            ON UPDATE CASCADE,\n",
    "    FOREIGN KEY(idSintoma)\n",
    "        REFERENCES Sintoma(idSintoma)\n",
    "          ON DELETE CASCADE\n",
    "          ON UPDATE CASCADE\n",
    ");\n",
    "\n",
    "CREATE TABLE Paciente (\n",
    "    idPaciente INTEGER AUTO_INCREMENT,\n",
    "    classe VARCHAR(50),\n",
    "    PRIMARY KEY(idPaciente),\n",
    "    FOREIGN KEY(classe)\n",
    "        REFERENCES Classificacao(classe)\n",
    "          ON DELETE CASCADE\n",
    "          ON UPDATE CASCADE\n",
    ");\n",
    "\n",
    "CREATE TABLE PacientePossuiCaracteristica (\n",
    "    idPacienteCaracteristica INTEGER AUTO_INCREMENT, \n",
    "    idPaciente INTEGER,\n",
    "    nomeCaracteristica VARCHAR(50), \n",
    "    valor DOUBLE,\n",
    "    PRIMARY KEY(idPacienteCaracteristica),\n",
    "    FOREIGN KEY(idPaciente)\n",
    "        REFERENCES Paciente(idPaciente)\n",
    "          ON DELETE CASCADE\n",
    "          ON UPDATE CASCADE,\n",
    "    FOREIGN KEY(nomeCaracteristica)\n",
    "        REFERENCES Caracteristica(nomeCaracteristica)\n",
    "          ON DELETE CASCADE\n",
    "          ON UPDATE CASCADE\n",
    ");"
   ]
  },
  {
   "cell_type": "markdown",
   "metadata": {},
   "source": [
    "# Inserção dos dados no modelo lógico"
   ]
  },
  {
   "cell_type": "markdown",
   "metadata": {},
   "source": [
    "Inserção das classificações possíveis (Hérnia, Normal e Espondilolistese)"
   ]
  },
  {
   "cell_type": "code",
   "execution_count": 5,
   "metadata": {},
   "outputs": [],
   "source": [
    "INSERT INTO Classificacao(classe)\n",
    "SELECT DISTINCT class FROM column_3C_weka;"
   ]
  },
  {
   "cell_type": "markdown",
   "metadata": {},
   "source": [
    "Inserção dos pacientes"
   ]
  },
  {
   "cell_type": "code",
   "execution_count": 6,
   "metadata": {},
   "outputs": [],
   "source": [
    "INSERT INTO Paciente(idPaciente, classe)\n",
    "SELECT idPaciente, class FROM column_3c_weka;"
   ]
  },
  {
   "cell_type": "markdown",
   "metadata": {},
   "source": [
    "Inserção das características dos pacientes (Inclinação Sacral, Versão Pélvica, etc)"
   ]
  },
  {
   "cell_type": "code",
   "execution_count": 7,
   "metadata": {},
   "outputs": [],
   "source": [
    "INSERT INTO Caracteristica (nomeCaracteristica) VALUES \n",
    "('Incidencia Pelvica'),\n",
    "('Versao Pelvica'),\n",
    "('Angulo Lordose Lombar'),\n",
    "('Inclinacao Sacral'),\n",
    "('Raio Pelvico'),\n",
    "('Grau de Espondilolistese'); "
   ]
  },
  {
   "cell_type": "markdown",
   "metadata": {},
   "source": [
    "Inserção dos valores das características de cada paciente"
   ]
  },
  {
   "cell_type": "code",
   "execution_count": 8,
   "metadata": {},
   "outputs": [],
   "source": [
    "INSERT INTO PacientePossuiCaracteristica (idPaciente, valor)\n",
    "SELECT idPaciente, pelvic_incidence FROM column_3c_weka;\n",
    "\n",
    "UPDATE PacientePossuiCaracteristica SET NomeCaracteristica = 'Incidencia Pelvica' \n",
    "WHERE idPacienteCaracteristica >= 1 AND idPacienteCaracteristica <= 310;"
   ]
  },
  {
   "cell_type": "code",
   "execution_count": 9,
   "metadata": {},
   "outputs": [],
   "source": [
    "INSERT INTO PacientePossuiCaracteristica (idPaciente, valor)\n",
    "SELECT idPaciente, pelvic_tilt FROM column_3c_weka;\n",
    "\n",
    "UPDATE PacientePossuiCaracteristica SET NomeCaracteristica = 'Versao Pelvica' \n",
    "WHERE idPacienteCaracteristica >= 311 AND idPacienteCaracteristica <= 620;"
   ]
  },
  {
   "cell_type": "code",
   "execution_count": 10,
   "metadata": {},
   "outputs": [],
   "source": [
    "INSERT INTO PacientePossuiCaracteristica (idPaciente, valor)\n",
    "SELECT idPaciente, lumbar_lordosis_angle FROM column_3c_weka;\n",
    "\n",
    "UPDATE PacientePossuiCaracteristica SET NomeCaracteristica = 'Angulo Lordose Lombar' \n",
    "WHERE idPacienteCaracteristica >= 621 AND idPacienteCaracteristica <= 930;"
   ]
  },
  {
   "cell_type": "code",
   "execution_count": 11,
   "metadata": {},
   "outputs": [],
   "source": [
    "INSERT INTO PacientePossuiCaracteristica (idPaciente, valor)\n",
    "SELECT idPaciente, sacral_slope FROM column_3c_weka;\n",
    "\n",
    "UPDATE PacientePossuiCaracteristica SET NomeCaracteristica = 'Inclinacao Sacral' \n",
    "WHERE idPacienteCaracteristica >= 931 AND idPacienteCaracteristica <= 1240;"
   ]
  },
  {
   "cell_type": "code",
   "execution_count": 12,
   "metadata": {},
   "outputs": [],
   "source": [
    "INSERT INTO PacientePossuiCaracteristica (idPaciente, valor)\n",
    "SELECT idPaciente, pelvic_radius FROM column_3c_weka;\n",
    "\n",
    "UPDATE PacientePossuiCaracteristica SET NomeCaracteristica = 'Raio Pelvico' \n",
    "WHERE idPacienteCaracteristica >= 1241 AND idPacienteCaracteristica <= 1550;"
   ]
  },
  {
   "cell_type": "code",
   "execution_count": 13,
   "metadata": {},
   "outputs": [],
   "source": [
    "INSERT INTO PacientePossuiCaracteristica (idPaciente, valor)\n",
    "SELECT idPaciente, degree_spondylolisthesis FROM column_3c_weka;\n",
    "\n",
    "UPDATE PacientePossuiCaracteristica SET NomeCaracteristica = 'Grau de Espondilolistese' \n",
    "WHERE idPacienteCaracteristica >= 1551 AND idPacienteCaracteristica <= 1860;"
   ]
  },
  {
   "cell_type": "markdown",
   "metadata": {},
   "source": [
    "Inserção dos sintomas possíveis das classificações (Hérnia e Espondilolistese)"
   ]
  },
  {
   "cell_type": "code",
   "execution_count": 14,
   "metadata": {},
   "outputs": [],
   "source": [
    "INSERT INTO Sintoma (localizacaoCorpo, descricao, idEspecializacao) VALUES \n",
    "('Corpo', 'Sintoma generalizado no corpo', NULL),\n",
    "('Coluna Lombar','Dor na coluna lombar, parte inferior das costas', NULL),\n",
    "('Glúteos, coxas','Dor ciática', NULL),\n",
    "('Glúteos, braços, mãos','Dormência', NULL),\n",
    "('Corpo todo','Diminuição da força', NULL),\n",
    "('Pernas','Dor ao caminhar', NULL),\n",
    "('Pernas','Fraqueza', NULL),\n",
    "('Coluna, glúteos, perna, calcanhar','Dor intensa', NULL),\n",
    "('Nuca, pescoço','Dor', NULL),\n",
    "('Corpo todo','Dificuldade em se movimentar e abaixar', NULL),\n",
    "('Coluna', 'Sensação de Queimação', 1),\n",
    "('Cervical','Vertebras do Pescoço', 11),\n",
    "('Toráxico','Vertebras na Altura do Peito', 11),\n",
    "('Lombar','Vertebras na base da coluna', 11),\n",
    "('Pelvico','Sintoma na regiao da pelve', 11),\n",
    "('Cabeca','Dor na região da cabeça', 1),\n",
    "('Inferior','Regiao inferior do corpo, como pernas', 1),\n",
    "('Superior','Regiao superior do corpo a partir do peito', 1),\n",
    "('Linha Pectinea','Regiao específica da pelve', 15),\n",
    "('Olho','Dor no globo ocular', 16);"
   ]
  },
  {
   "cell_type": "code",
   "execution_count": 15,
   "metadata": {},
   "outputs": [],
   "source": [
    "INSERT INTO ClassificacaoTemSintoma (classe, idSintoma) VALUES\n",
    "('Spondylolisthesis', 1),\n",
    "('Spondylolisthesis', 2),\n",
    "('Spondylolisthesis', 3),\n",
    "('Spondylolisthesis', 4),\n",
    "('Spondylolisthesis', 5),\n",
    "('Hernia', 6),\n",
    "('Hernia', 7),\n",
    "('Hernia', 8),\n",
    "('Hernia', 9),\n",
    "('Hernia', 10);"
   ]
  },
  {
   "cell_type": "code",
   "execution_count": 16,
   "metadata": {},
   "outputs": [
    {
     "data": {
      "application/vnd.jupyter.widget-view+json": {
       "model_id": "0c516b93-91c0-49de-b035-397e7a5edbea",
       "version_major": 2,
       "version_minor": 0
      },
      "method": "display_data"
     },
     "metadata": {},
     "output_type": "display_data"
    },
    {
     "data": {
      "application/vnd.jupyter.widget-view+json": {
       "model_id": "80026f45-7fb0-4515-8641-2404e55d4407",
       "version_major": 2,
       "version_minor": 0
      },
      "method": "display_data"
     },
     "metadata": {},
     "output_type": "display_data"
    },
    {
     "data": {
      "application/vnd.jupyter.widget-view+json": {
       "model_id": "20bdc0ec-5c7f-4312-a605-13d03cf35cd5",
       "version_major": 2,
       "version_minor": 0
      },
      "method": "display_data"
     },
     "metadata": {},
     "output_type": "display_data"
    },
    {
     "data": {
      "application/vnd.jupyter.widget-view+json": {
       "model_id": "c28e540e-7975-4d15-affa-9e92b853a643",
       "version_major": 2,
       "version_minor": 0
      },
      "method": "display_data"
     },
     "metadata": {},
     "output_type": "display_data"
    },
    {
     "data": {
      "application/vnd.jupyter.widget-view+json": {
       "model_id": "3806cdb6-2f6b-465c-a97a-dee38d881c11",
       "version_major": 2,
       "version_minor": 0
      },
      "method": "display_data"
     },
     "metadata": {},
     "output_type": "display_data"
    },
    {
     "data": {
      "application/vnd.jupyter.widget-view+json": {
       "model_id": "a562ab13-0f8c-431d-be3a-4980746923e9",
       "version_major": 2,
       "version_minor": 0
      },
      "method": "display_data"
     },
     "metadata": {},
     "output_type": "display_data"
    }
   ],
   "source": [
    "SELECT * FROM Classificacao;\n",
    "SELECT * FROM Sintoma;\n",
    "SELECT * FROM ClassificacaoTemSintoma;\n",
    "SELECT * FROM Paciente;\n",
    "SELECT * FROM Caracteristica;\n",
    "SELECT * FROM PacientePossuiCaracteristica;"
   ]
  },
  {
   "cell_type": "markdown",
   "metadata": {},
   "source": [
    "# Querys em SQL"
   ]
  },
  {
   "cell_type": "code",
   "execution_count": 17,
   "metadata": {},
   "outputs": [
    {
     "data": {
      "application/vnd.jupyter.widget-view+json": {
       "model_id": "d94e7624-42d0-4534-a5cc-9688aafed32c",
       "version_major": 2,
       "version_minor": 0
      },
      "method": "display_data"
     },
     "metadata": {},
     "output_type": "display_data"
    }
   ],
   "source": [
    "-- mostra doenca que a pessoa tem dado raio pelvico > 140\n",
    "SELECT p.idpaciente, p.classe, ppc.valor\n",
    "FROM PacientePossuiCaracteristica ppc, Paciente p\n",
    "WHERE ppc.valor > 140 and ppc.nomecaracteristica = 'Raio Pelvico' and p.idpaciente = ppc.idpaciente"
   ]
  },
  {
   "cell_type": "code",
   "execution_count": 18,
   "metadata": {},
   "outputs": [
    {
     "data": {
      "application/vnd.jupyter.widget-view+json": {
       "model_id": "4b2d5b50-f46d-4600-9a15-d1ff2a978910",
       "version_major": 2,
       "version_minor": 0
      },
      "method": "display_data"
     },
     "metadata": {},
     "output_type": "display_data"
    }
   ],
   "source": [
    "-- mostra doenca que a pessoa tem dado Angulo Lordose Lombar\n",
    "SELECT p.idpaciente, p.classe, ppc.valor\n",
    "FROM PacientePossuiCaracteristica ppc, Paciente p\n",
    "WHERE ppc.valor > 80 and ppc.nomecaracteristica = 'Angulo Lordose Lombar' and p.idpaciente = ppc.idpaciente"
   ]
  },
  {
   "cell_type": "code",
   "execution_count": 19,
   "metadata": {},
   "outputs": [
    {
     "data": {
      "application/vnd.jupyter.widget-view+json": {
       "model_id": "a489c9ea-e9b1-41f9-a778-b6be151100fd",
       "version_major": 2,
       "version_minor": 0
      },
      "method": "display_data"
     },
     "metadata": {},
     "output_type": "display_data"
    }
   ],
   "source": [
    "-- conta a quantidade de ocorrencias de cada doenca nessa base de dados\n",
    "SELECT p.classe, count(*) as ocorrencias\n",
    "FROM Paciente p\n",
    "GROUP BY p.classe;"
   ]
  },
  {
   "cell_type": "code",
   "execution_count": 20,
   "metadata": {},
   "outputs": [
    {
     "data": {
      "application/vnd.jupyter.widget-view+json": {
       "model_id": "77df6c37-60d8-4096-a28c-2a0be706b428",
       "version_major": 2,
       "version_minor": 0
      },
      "method": "display_data"
     },
     "metadata": {},
     "output_type": "display_data"
    },
    {
     "data": {
      "application/vnd.jupyter.widget-view+json": {
       "model_id": "2c80b4b1-adc7-40e7-8011-f24e871c3b17",
       "version_major": 2,
       "version_minor": 0
      },
      "method": "display_data"
     },
     "metadata": {},
     "output_type": "display_data"
    },
    {
     "data": {
      "application/vnd.jupyter.widget-view+json": {
       "model_id": "1b0109e3-e6f1-4a36-a74e-8d4919fd769a",
       "version_major": 2,
       "version_minor": 0
      },
      "method": "display_data"
     },
     "metadata": {},
     "output_type": "display_data"
    },
    {
     "data": {
      "application/vnd.jupyter.widget-view+json": {
       "model_id": "0263c1f1-e0a5-4841-8e80-70e9785b5c96",
       "version_major": 2,
       "version_minor": 0
      },
      "method": "display_data"
     },
     "metadata": {},
     "output_type": "display_data"
    }
   ],
   "source": [
    "-- permite ver os min e max de cada atributo dado a classificacao do paciente\n",
    "SELECT p.classe, ppc.nomecaracteristica, min(ppc.valor), max(ppc.valor), avg(ppc.valor)\n",
    "FROM Paciente p, PacientePossuiCaracteristica ppc\n",
    "WHERE p.idpaciente = ppc.idpaciente and p.classe = 'Normal'\n",
    "GROUP BY ppc.nomecaracteristica;\n",
    "\n",
    "SELECT p.classe, ppc.nomecaracteristica, min(ppc.valor), max(ppc.valor), avg(ppc.valor)\n",
    "FROM Paciente p, PacientePossuiCaracteristica ppc\n",
    "WHERE p.idpaciente = ppc.idpaciente and p.classe = 'Spondylolisthesis'\n",
    "GROUP BY ppc.nomecaracteristica;\n",
    "\n",
    "SELECT p.classe, ppc.nomecaracteristica, min(ppc.valor), max(ppc.valor), avg(ppc.valor)\n",
    "FROM Paciente p, PacientePossuiCaracteristica ppc\n",
    "WHERE p.idpaciente = ppc.idpaciente and p.classe = 'Hernia'\n",
    "GROUP BY ppc.nomecaracteristica;\n",
    "\n",
    "-- todos\n",
    "SELECT ppc.nomecaracteristica, min(ppc.valor), max(ppc.valor), avg(ppc.valor)\n",
    "FROM Paciente p, PacientePossuiCaracteristica ppc\n",
    "WHERE p.idpaciente = ppc.idpaciente\n",
    "GROUP BY ppc.nomecaracteristica;"
   ]
  },
  {
   "cell_type": "code",
   "execution_count": 21,
   "metadata": {},
   "outputs": [
    {
     "data": {
      "application/vnd.jupyter.widget-view+json": {
       "model_id": "cfa840c8-1f3e-41bd-80f9-072f8cae6dd5",
       "version_major": 2,
       "version_minor": 0
      },
      "method": "display_data"
     },
     "metadata": {},
     "output_type": "display_data"
    }
   ],
   "source": [
    "-- conta quantos pacientes estao acima da media\n",
    "SELECT nomeCaracteristica, COUNT(*) Pacientes\n",
    "FROM PacientePossuiCaracteristica ppc\n",
    "WHERE nomeCaracteristica = 'Incidencia Pelvica'\n",
    "AND Valor > (SELECT avg(pp.valor)\n",
    "             FROM PacientePossuiCaracteristica pp\n",
    "             WHERE nomeCaracteristica = 'Incidencia Pelvica'\n",
    "             GROUP BY pp.nomecaracteristica)\n",
    "GROUP BY nomeCaracteristica;"
   ]
  },
  {
   "cell_type": "code",
   "execution_count": null,
   "metadata": {},
   "outputs": [],
   "source": []
  },
  {
   "cell_type": "code",
   "execution_count": 22,
   "metadata": {},
   "outputs": [
    {
     "data": {
      "application/vnd.jupyter.widget-view+json": {
       "model_id": "f101f934-1522-4be1-a264-b94f4c5142dd",
       "version_major": 2,
       "version_minor": 0
      },
      "method": "display_data"
     },
     "metadata": {},
     "output_type": "display_data"
    }
   ],
   "source": [
    "-- quantidade de pessoas que relataram dores em certas regioes do corpo\n",
    "SELECT s.localizacaocorpo, count(*)\n",
    "FROM ClassificacaoTemSintoma cts, Sintoma s, Paciente p\n",
    "WHERE cts.idsintoma = s.idsintoma and p.classe = cts.classe\n",
    "GROUP BY s.localizacaocorpo;"
   ]
  },
  {
   "cell_type": "code",
   "execution_count": 23,
   "metadata": {},
   "outputs": [
    {
     "data": {
      "application/vnd.jupyter.widget-view+json": {
       "model_id": "4e6ba244-3612-4c36-a159-78bf2ba46b71",
       "version_major": 2,
       "version_minor": 0
      },
      "method": "display_data"
     },
     "metadata": {},
     "output_type": "display_data"
    }
   ],
   "source": [
    "-- analise de pares\n",
    "CREATE OR REPLACE VIEW EfeitoCruzado AS\n",
    "SELECT DISTINCT ppc1.idPaciente Paciente, ppc1.nomeCaracteristica Atributo1, ppc2.nomeCaracteristica Atributo2\n",
    "FROM PacientePossuiCaracteristica ppc1, PacientePossuiCaracteristica ppc2\n",
    "WHERE ppc1.idPaciente = ppc2.idPaciente\n",
    "AND ppc1.nomeCaracteristica <> ppc2.nomeCaracteristica\n",
    "AND ppc1.nomeCaracteristica > ppc2.nomeCaracteristica\n",
    "AND ppc1.valor > (SELECT avg(pp.valor)\n",
    "                    FROM PacientePossuiCaracteristica pp\n",
    "                    WHERE nomeCaracteristica = ppc1.nomeCaracteristica\n",
    "                    GROUP BY pp.nomecaracteristica)\n",
    "AND ppc2.valor > (SELECT avg(pp.valor)\n",
    "                    FROM PacientePossuiCaracteristica pp\n",
    "                    WHERE nomeCaracteristica = ppc2.nomeCaracteristica\n",
    "                    GROUP BY pp.nomecaracteristica)\n",
    "ORDER BY ppc1.idPaciente;\n",
    "\n",
    "SELECT * FROM EfeitoCruzado;"
   ]
  },
  {
   "cell_type": "code",
   "execution_count": 24,
   "metadata": {},
   "outputs": [
    {
     "ename": "org.h2.jdbc.JdbcSQLException",
     "evalue": " Order by expression \"PPC1.IDPACIENTE\" must be in the result list in this case; SQL statement",
     "output_type": "error",
     "text": "org.h2.jdbc.JdbcSQLException: Order by expression \"PPC1.IDPACIENTE\" must be in the result list in this case; SQL statement:\nCREATE OR REPLACE VIEW SintomaCruzado AS\nSELECT DISTINCT cts1.idPaciente Paciente, ppc1.nomeCaracteristica Atributo1, ppc2.nomeCaracteristica Atributo2\nFROM ClassificacaoTemSintoma cts1, ClassificacaoTemSintoma cts2\nWHERE ppc1.idPaciente = ppc2.idPaciente\nAND ppc1.nomeCaracteristica <> ppc2.nomeCaracteristica\nAND ppc1.nomeCaracteristica > ppc2.nomeCaracteristica\nAND ppc1.valor > (SELECT avg(pp.valor)\nFROM PacientePossuiCaracteristica pp\nWHERE nomeCaracteristica = ppc1.nomeCaracteristica\nGROUP BY pp.nomecaracteristica)\nAND ppc2.valor > (SELECT avg(pp.valor)\nFROM PacientePossuiCaracteristica pp\nWHERE nomeCaracteristica = ppc2.nomeCaracteristica\nGROUP BY pp.nomecaracteristica)\nORDER BY ppc1.idPaciente [90068-197]",
     "traceback": [
      "\u001b[1;31morg.h2.jdbc.JdbcSQLException: Order by expression \"PPC1.IDPACIENTE\" must be in the result list in this case; SQL statement:\u001b[0;0m",
      "\u001b[1;31mCREATE OR REPLACE VIEW SintomaCruzado AS\u001b[0;0m",
      "\u001b[1;31mSELECT DISTINCT cts1.idPaciente Paciente, ppc1.nomeCaracteristica Atributo1, ppc2.nomeCaracteristica Atributo2\u001b[0;0m",
      "\u001b[1;31mFROM ClassificacaoTemSintoma cts1, ClassificacaoTemSintoma cts2\u001b[0;0m",
      "\u001b[1;31mWHERE ppc1.idPaciente = ppc2.idPaciente\u001b[0;0m",
      "\u001b[1;31mAND ppc1.nomeCaracteristica <> ppc2.nomeCaracteristica\u001b[0;0m",
      "\u001b[1;31mAND ppc1.nomeCaracteristica > ppc2.nomeCaracteristica\u001b[0;0m",
      "\u001b[1;31mAND ppc1.valor > (SELECT avg(pp.valor)\u001b[0;0m",
      "\u001b[1;31mFROM PacientePossuiCaracteristica pp\u001b[0;0m",
      "\u001b[1;31mWHERE nomeCaracteristica = ppc1.nomeCaracteristica\u001b[0;0m",
      "\u001b[1;31mGROUP BY pp.nomecaracteristica)\u001b[0;0m",
      "\u001b[1;31mAND ppc2.valor > (SELECT avg(pp.valor)\u001b[0;0m",
      "\u001b[1;31mFROM PacientePossuiCaracteristica pp\u001b[0;0m",
      "\u001b[1;31mWHERE nomeCaracteristica = ppc2.nomeCaracteristica\u001b[0;0m",
      "\u001b[1;31mGROUP BY pp.nomecaracteristica)\u001b[0;0m",
      "\u001b[1;31mORDER BY ppc1.idPaciente [90068-197]\u001b[0;0m"
     ]
    }
   ],
   "source": [
    "CREATE OR REPLACE VIEW SintomaCruzado AS\n",
    "SELECT DISTINCT cts1.idPaciente Paciente, ppc1.nomeCaracteristica Atributo1, ppc2.nomeCaracteristica Atributo2\n",
    "FROM ClassificacaoTemSintoma cts1, ClassificacaoTemSintoma cts2\n",
    "WHERE ppc1.idPaciente = ppc2.idPaciente\n",
    "AND ppc1.nomeCaracteristica <> ppc2.nomeCaracteristica\n",
    "AND ppc1.nomeCaracteristica > ppc2.nomeCaracteristica\n",
    "AND ppc1.valor > (SELECT avg(pp.valor)\n",
    "                    FROM PacientePossuiCaracteristica pp\n",
    "                    WHERE nomeCaracteristica = ppc1.nomeCaracteristica\n",
    "                    GROUP BY pp.nomecaracteristica)\n",
    "AND ppc2.valor > (SELECT avg(pp.valor)\n",
    "                    FROM PacientePossuiCaracteristica pp\n",
    "                    WHERE nomeCaracteristica = ppc2.nomeCaracteristica\n",
    "                    GROUP BY pp.nomecaracteristica)\n",
    "ORDER BY ppc1.idPaciente;\n",
    "\n",
    "SELECT * FROM EfeitoCruzado;"
   ]
  },
  {
   "cell_type": "markdown",
   "metadata": {},
   "source": [
    "# Salvar em CSV"
   ]
  },
  {
   "cell_type": "code",
   "execution_count": 25,
   "metadata": {},
   "outputs": [
    {
     "data": {
      "application/vnd.jupyter.widget-view+json": {
       "model_id": "027a4247-b5bd-48bb-b6bc-36a7bb0b4147",
       "version_major": 2,
       "version_minor": 0
      },
      "method": "display_data"
     },
     "metadata": {},
     "output_type": "display_data"
    },
    {
     "data": {
      "application/vnd.jupyter.widget-view+json": {
       "model_id": "259d7025-2262-4020-a41b-6b4b27871896",
       "version_major": 2,
       "version_minor": 0
      },
      "method": "display_data"
     },
     "metadata": {},
     "output_type": "display_data"
    },
    {
     "data": {
      "application/vnd.jupyter.widget-view+json": {
       "model_id": "da61d242-4418-4985-82b6-c7004e50ccad",
       "version_major": 2,
       "version_minor": 0
      },
      "method": "display_data"
     },
     "metadata": {},
     "output_type": "display_data"
    },
    {
     "data": {
      "application/vnd.jupyter.widget-view+json": {
       "model_id": "83d809b3-8988-4666-9371-25e45d6f698e",
       "version_major": 2,
       "version_minor": 0
      },
      "method": "display_data"
     },
     "metadata": {},
     "output_type": "display_data"
    },
    {
     "data": {
      "application/vnd.jupyter.widget-view+json": {
       "model_id": "6fb47b54-9c29-4184-a331-7842507aedb3",
       "version_major": 2,
       "version_minor": 0
      },
      "method": "display_data"
     },
     "metadata": {},
     "output_type": "display_data"
    },
    {
     "data": {
      "application/vnd.jupyter.widget-view+json": {
       "model_id": "e2edbb44-bb4d-4c47-b561-41006a020612",
       "version_major": 2,
       "version_minor": 0
      },
      "method": "display_data"
     },
     "metadata": {},
     "output_type": "display_data"
    }
   ],
   "source": [
    "CALL CSVWRITE('../data/Classificacao.csv', 'SELECT * FROM Classificacao');\n",
    "CALL CSVWRITE('../data/ClassificacaoTemSintoma.csv', 'SELECT * FROM ClassificacaoTemSintoma');\n",
    "CALL CSVWRITE('../data/Paciente.csv', 'SELECT * FROM Paciente');\n",
    "CALL CSVWRITE('../data/Caracteristica.csv', 'SELECT * FROM Caracteristica');\n",
    "CALL CSVWRITE('../data/PacientePossuiCaracteristica.csv', 'SELECT * FROM PacientePossuiCaracteristica');\n",
    "CALL CSVWRITE('../data/Sintoma.csv', 'SELECT * FROM Sintoma');"
   ]
  },
  {
   "cell_type": "markdown",
   "metadata": {},
   "source": [
    "# Código em Cypher\n",
    "---\n",
    "\n",
    "![modelo-logico](../img/Cypher-parte3.png)\n",
    "\n",
    "## Upload dos csv, e criação do grafo\n",
    "\n",
    "Caracteristica\n",
    "--\n",
    "LOAD CSV WITH HEADERS FROM 'https://raw.githubusercontent.com/thiagolim4/bd_thiago2/master/data/Caracteristica.csv' AS line  \n",
    "CREATE (:Caracteristica { nomecaracteristica: line.NOMECARACTERISTICA})  \n",
    "\n",
    "Classificacao\n",
    "--\n",
    "LOAD CSV WITH HEADERS FROM 'https://raw.githubusercontent.com/thiagolim4/bd_thiago2/master/data/Classificacao.csv' AS line  \n",
    "CREATE (:Classificacao { classe: line.CLASSE})  \n",
    "\n",
    "Sintoma\n",
    "--\n",
    "LOAD CSV WITH HEADERS FROM 'https://raw.githubusercontent.com/thiagolim4/bd_thiago2/master/data/Sintoma.csv' AS line  \n",
    "CREATE (:Sintoma { idsintoma: line.IDSINTOMA, localizacaocorpo: line.LOCALIZACAOCORPO, descricao: line.DESCRICAO})  \n",
    "\n",
    "Paciente\n",
    "--\n",
    "LOAD CSV WITH HEADERS FROM 'https://raw.githubusercontent.com/thiagolim4/bd_thiago2/master/data/Paciente.csv' AS line  \n",
    "CREATE (:Paciente { idpaciente: line.IDPACIENTE})  \n",
    "\n",
    "## Criação das arestas  \n",
    "\n",
    "Paciente -> Classificacao\n",
    "--\n",
    "LOAD CSV WITH HEADERS FROM 'https://raw.githubusercontent.com/thiagolim4/bd_thiago2/master/data/Paciente.csv' AS line  \n",
    "MATCH(p:Paciente{idpaciente: line.IDPACIENTE})  \n",
    "MATCH(c:Classificacao{classe: line.CLASSE})  \n",
    "CREATE (p)-[:PacienteTemClassificacao]->(c)  \n",
    "\n",
    "Paciente -> caracteristica  \n",
    "--\n",
    "LOAD CSV WITH HEADERS FROM 'https://raw.githubusercontent.com/thiagolim4/bd_thiago2/master/data/PacientePossuiCaracteristica.csv' AS line\n",
    "MATCH(p:Paciente{idpaciente: line.IDPACIENTE})\n",
    "MATCH(c:Caracteristica{nomecaracteristica: line.NOMECARACTERISTICA})\n",
    "CREATE (p)-[:PacientePossuiCaracteristica{valor: line.VALOR}]->(c)\n",
    "\n",
    "Classificacao -> sintoma  \n",
    "--\n",
    "LOAD CSV WITH HEADERS FROM 'https://raw.githubusercontent.com/thiagolim4/bd_thiago2/master/data/ClassificacaoTemSintoma.csv' AS line  \n",
    "MATCH(c:Classificacao{classe: line.CLASSE})  \n",
    "MATCH(s:Sintoma{idsintoma: line.IDSINTOMA})  \n",
    "CREATE (c)-[:ClassificacaoTemSintoma]->(s)  \n",
    "\n",
    "Sintoma(especialização) -> sintoma\n",
    "--\n",
    "LOAD CSV WITH HEADERS FROM 'https://raw.githubusercontent.com/thiagolim4/bd_thiago2/master/data/Sintoma.csv' AS line\n",
    "MATCH (i:Sintoma {idsintoma: toString(line.IDESPECIALIZACAO)})\n",
    "MATCH (s:Sintoma {idsintoma: toString(line.IDSINTOMA)})\n",
    "CREATE (s)-[:especializacao]->(i)"
   ]
  },
  {
   "cell_type": "markdown",
   "metadata": {},
   "source": [
    "# Consultas em Cypher\n",
    "---\n",
    "MATCH a=(p:Paciente)-[t:PacientePossuiCaracteristica]->(Caracteristica)  \n",
    "WHERE toFloat(t.valor) > 100.0  \n",
    "return a limit 25  \n",
    "\n",
    "MATCH a=(p:Paciente)-[t:PacientePossuiCaracteristica]->(Caracteristica{nomecaracteristica: \"Incidencia Pelvica\"})  \n",
    "WHERE toFloat(t.valor) > 100.0  \n",
    "return a limit 25  \n",
    "\n",
    "MATCH a=(p:Paciente)-[t:PacientePossuiCaracteristica]->(c:Caracteristica)  \n",
    "WHERE toFloat(t.valor) > 70.0 and (c.nomecaracteristica = \"Incidencia Pelvica\" or c.nomecaracteristica = \"Raio Pelvico\")  \n",
    "return a limit 25  \n",
    "\n",
    "CALL algo.pageRank.stream('Sintoma', 'especializacao', {iterations:20, dampingFactor:0.85})  \n",
    "YIELD nodeId, score  \n",
    "RETURN algo.getNodeById(nodeId).descricao AS Sintoma, score  \n",
    "ORDER BY score DESC  \n",
    "\n",
    "CALL algo.betweenness.stream('Sintoma', 'especializacao’',{direction:'out'})\n",
    "YIELD nodeId, centrality\n",
    "MATCH (user:User) WHERE id(user) = nodeId\n",
    "RETURN user.descricao AS Sintoma, centrality\n",
    "ORDER BY centrality DESC;"
   ]
  },
  {
   "cell_type": "code",
   "execution_count": null,
   "metadata": {},
   "outputs": [],
   "source": []
  }
 ],
 "metadata": {
  "kernelspec": {
   "display_name": "SQL",
   "language": "SQL",
   "name": "sql"
  },
  "language_info": {
   "codemirror_mode": "sql",
   "file_extension": ".sql",
   "mimetype": "",
   "name": "SQL",
   "nbconverter_exporter": "",
   "version": ""
  },
  "toc": {
   "base_numbering": 1,
   "nav_menu": {},
   "number_sections": false,
   "sideBar": false,
   "skip_h1_title": false,
   "title_cell": "Table of Contents",
   "title_sidebar": "Contents",
   "toc_cell": false,
   "toc_position": {},
   "toc_section_display": false,
   "toc_window_display": false
  }
 },
 "nbformat": 4,
 "nbformat_minor": 2
}
