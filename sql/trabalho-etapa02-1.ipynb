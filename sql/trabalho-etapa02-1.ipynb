{
 "cells": [
  {
   "cell_type": "code",
   "execution_count": 2,
   "metadata": {},
   "outputs": [],
   "source": [
    "%defaultDatasource jdbc:h2:mem:db"
   ]
  },
  {
   "cell_type": "code",
   "execution_count": 3,
   "metadata": {},
   "outputs": [],
   "source": [
    "CREATE TABLE column_3C_weka (\n",
    "    pelvic_incidence DOUBLE,\n",
    "    pelvic_tilt DOUBLE,\n",
    "    lumbar_lordosis_angle DOUBLE,\n",
    "    sacral_slope DOUBLE,\n",
    "    pelvic_radius DOUBLE,\n",
    "    degree_spondylolisthesis DOUBLE,\n",
    "    class VARCHAR(50)\n",
    ") AS SELECT\n",
    "    pelvic_incidence,\n",
    "    pelvic_tilt,\n",
    "    lumbar_lordosis_angle,\n",
    "    sacral_slope,\n",
    "    pelvic_radius,\n",
    "    degree_spondylolisthesis,\n",
    "    class\n",
    "FROM CSVREAD('../data/column_3C_weka.csv');"
   ]
  },
  {
   "cell_type": "code",
   "execution_count": 3,
   "metadata": {},
   "outputs": [
    {
     "data": {
      "application/vnd.jupyter.widget-view+json": {
       "model_id": "b1374c36-cb3f-4409-809d-9d8bb1637720",
       "version_major": 2,
       "version_minor": 0
      },
      "method": "display_data"
     },
     "metadata": {},
     "output_type": "display_data"
    }
   ],
   "source": [
    "SELECT * FROM column_3c_weka"
   ]
  },
  {
   "cell_type": "markdown",
   "metadata": {},
   "source": [
    "# Modelo Conceitual\n",
    "\n",
    "### Antes:\n",
    "![uml-etapa01](../img/uml-etapa01.png)\n",
    "\n",
    "### Depois:\n",
    "\n",
    "\n",
    "#### Motivo"
   ]
  },
  {
   "cell_type": "markdown",
   "metadata": {},
   "source": [
    "# Modelo Logico\n",
    "\n",
    "![modelo-logico](../img/modelo-logico.png)"
   ]
  },
  {
   "cell_type": "markdown",
   "metadata": {},
   "source": [
    "# Tabelas Relacionais"
   ]
  },
  {
   "cell_type": "code",
   "execution_count": 4,
   "metadata": {},
   "outputs": [],
   "source": [
    "DROP TABLE IF EXISTS ClassificacaoTemSintoma;\n",
    "DROP TABLE IF EXISTS PacientePossuiCaracteristica;\n",
    "DROP TABLE IF EXISTS Caracteristica;\n",
    "DROP TABLE IF EXISTS Sintoma;\n",
    "DROP TABLE IF EXISTS Classificacao;\n",
    "DROP TABLE IF EXISTS Paciente;\n",
    "\n",
    "CREATE TABLE Caracteristica (\n",
    "    nomeCaracteristica VARCHAR(50),\n",
    "    PRIMARY KEY(nomeCaracteristica)\n",
    ");\n",
    "\n",
    "CREATE TABLE Sintoma (\n",
    "    idSintoma INTEGER AUTO_INCREMENT,\n",
    "    localizacaoCorpo VARCHAR(50),\n",
    "    descricao VARCHAR(200),\n",
    "    PRIMARY KEY(idSintoma)\n",
    ");\n",
    "\n",
    "CREATE TABLE Classificacao (\n",
    "    classe VARCHAR(50),\n",
    "    PRIMARY KEY(classe)\n",
    ");\n",
    "\n",
    "CREATE TABLE ClassificacaoTemSintoma (\n",
    "    IdClassificacaoTemSintoma INTEGER AUTO_INCREMENT,\n",
    "    idClassificacao INTEGER,\n",
    "    idSintoma INTEGER,\n",
    "    PRIMARY KEY(IdClassificacaoTemSintoma),\n",
    "    FOREIGN KEY(idClassificacao)\n",
    "        REFERENCES Classificacao(idClassificacao)\n",
    "            ON DELETE CASCADE\n",
    "            ON UPDATE CASCADE,\n",
    "    FOREIGN KEY(idSintoma)\n",
    "        REFERENCES Sintoma(idSintoma)\n",
    "          ON DELETE CASCADE\n",
    "          ON UPDATE CASCADE\n",
    ");\n",
    "\n",
    "CREATE TABLE Paciente (\n",
    "    idPaciente INTEGER AUTO_INCREMENT,\n",
    "    idClassificacao INTEGER,\n",
    "    PRIMARY KEY(idPaciente),\n",
    "    FOREIGN KEY(idClassificacao)\n",
    "        REFERENCES Classificacao(idClassificacao)\n",
    "          ON DELETE CASCADE\n",
    "          ON UPDATE CASCADE\n",
    ");\n",
    "\n",
    "CREATE TABLE PacientePossuiCaracteristica (\n",
    "    idPacienteCaracteristica INTEGER AUTO_INCREMENT, \n",
    "    idPaciente INTEGER,\n",
    "    idCaracteristica INTEGER, \n",
    "    valor DOUBLE,\n",
    "    PRIMARY KEY(idPacienteCaracteristica),\n",
    "    FOREIGN KEY(idPaciente)\n",
    "        REFERENCES Paciente(idPaciente)\n",
    "          ON DELETE CASCADE\n",
    "          ON UPDATE CASCADE,\n",
    "    FOREIGN KEY(idCaracteristica)\n",
    "        REFERENCES Caracteristica(idCaracteristica)\n",
    "          ON DELETE CASCADE\n",
    "          ON UPDATE CASCADE\n",
    ");\n",
    "\n",
    "SELECT * FROM Paciente;\n",
    "SELECT * FROM PacientePossuiCaracteristica;\n",
    "SELECT * FROM Caracteristica;\n",
    "SELECT * FROM Classificacao;\n",
    "SELECT * FROM ClassificacaoTemSintoma;\n",
    "SELECT * FROM Sintoma;"
   ]
  },
  {
   "cell_type": "markdown",
   "metadata": {},
   "source": [
    "# Inserção dos dados no modelo lógico"
   ]
  },
  {
   "cell_type": "code",
   "execution_count": null,
   "metadata": {},
   "outputs": [],
   "source": []
  },
  {
   "cell_type": "code",
   "execution_count": 6,
   "metadata": {},
   "outputs": [
    {
     "data": {
      "application/vnd.jupyter.widget-view+json": {
       "model_id": "c49e891a-c057-40ea-8c71-2d0a4a529b9b",
       "version_major": 2,
       "version_minor": 0
      },
      "method": "display_data"
     },
     "metadata": {},
     "output_type": "display_data"
    }
   ],
   "source": [
    "DROP TABLE IF EXISTS Paciente;\n",
    "\n",
    "CREATE TABLE Paciente (\n",
    "    nomeClassificacao VARCHAR(50)\n",
    ") AS SELECT\n",
    "    class\n",
    "FROM column_3C_weka;\n",
    "\n",
    "ALTER TABLE Paciente ADD idPaciente INTEGER AUTO_INCREMENT; \n",
    "ALTER TABLE Paciente ADD CONSTRAINT pk_Paciente PRIMARY KEY (idPaciente);\n",
    "\n",
    "SELECT * FROM Paciente;\n",
    "\n",
    "CREATE TABLE Classificacao (\n",
    "    classe VARCHAR(50),\n",
    "    PRIMARY KEY(classe)\n",
    ");"
   ]
  },
  {
   "cell_type": "code",
   "execution_count": 7,
   "metadata": {},
   "outputs": [
    {
     "ename": "org.h2.jdbc.JdbcSQLException",
     "evalue": " Table \"CLASSIFICACAO\" not found; SQL statement",
     "output_type": "error",
     "text": "org.h2.jdbc.JdbcSQLException: Table \"CLASSIFICACAO\" not found; SQL statement:\nSELECT * FROM Classificacao [42102-193]",
     "traceback": [
      "\u001b[1;31morg.h2.jdbc.JdbcSQLException: Table \"CLASSIFICACAO\" not found; SQL statement:\u001b[0;0m",
      "\u001b[1;31mSELECT * FROM Classificacao [42102-193]\u001b[0;0m"
     ]
    }
   ],
   "source": [
    "SELECT * FROM Classificacao;"
   ]
  },
  {
   "cell_type": "code",
   "execution_count": null,
   "metadata": {},
   "outputs": [],
   "source": []
  },
  {
   "cell_type": "code",
   "execution_count": null,
   "metadata": {},
   "outputs": [],
   "source": []
  }
 ],
 "metadata": {
  "kernelspec": {
   "display_name": "SQL",
   "language": "SQL",
   "name": "sql"
  },
  "language_info": {
   "codemirror_mode": "sql",
   "file_extension": ".sql",
   "mimetype": "",
   "name": "SQL",
   "nbconverter_exporter": "",
   "version": ""
  }
 },
 "nbformat": 4,
 "nbformat_minor": 2
}
