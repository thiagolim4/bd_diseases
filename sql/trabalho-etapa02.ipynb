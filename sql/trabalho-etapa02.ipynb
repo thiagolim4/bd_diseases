{
 "cells": [
  {
   "cell_type": "code",
   "execution_count": 1,
   "metadata": {},
   "outputs": [],
   "source": [
    "%defaultDatasource jdbc:h2:mem:db"
   ]
  },
  {
   "cell_type": "code",
   "execution_count": 2,
   "metadata": {},
   "outputs": [],
   "source": [
    "CREATE TABLE column_3C_weka (\n",
    "    pelvic_incidence DOUBLE,\n",
    "    pelvic_tilt DOUBLE,\n",
    "    lumbar_lordosis_angle DOUBLE,\n",
    "    sacral_slope DOUBLE,\n",
    "    pelvic_radius DOUBLE,\n",
    "    degree_spondylolisthesis DOUBLE,\n",
    "    class VARCHAR(50)\n",
    ") AS SELECT\n",
    "    pelvic_incidence,\n",
    "    pelvic_tilt,\n",
    "    lumbar_lordosis_angle,\n",
    "    sacral_slope,\n",
    "    pelvic_radius,\n",
    "    degree_spondylolisthesis,\n",
    "    class\n",
    "FROM CSVREAD('../data/column_3C_weka.csv');"
   ]
  },
  {
   "cell_type": "code",
   "execution_count": 3,
   "metadata": {},
   "outputs": [
    {
     "data": {
      "application/vnd.jupyter.widget-view+json": {
       "model_id": "bd6c29c9-a3a0-4561-a3dd-21c1904356a1",
       "version_major": 2,
       "version_minor": 0
      },
      "method": "display_data"
     },
     "metadata": {},
     "output_type": "display_data"
    }
   ],
   "source": [
    "SELECT * FROM column_3c_weka"
   ]
  },
  {
   "cell_type": "markdown",
   "metadata": {},
   "source": [
    "# Modelo Conceitual\n",
    "\n",
    "### Antes:\n",
    "![uml-etapa01](../img/uml-etapa01.png)\n",
    "\n",
    "### Depois:\n",
    "![uml-etapa02](../img/UML-etapa02.png)\n",
    "\n",
    "#### Motivo\n",
    "* Modificação nos atributos da classe Paciente: agora ela possui somente o identificador do paciente chamado idPaciente, os atributos referentes à situação do mesmo (como Incidência Pélvica, Versão Pélvica, etc) foram transferidos para outras classes a fim de que se pudesse, caso surgisse uma nova característica (novo tipo de medição da Pelve, por exemplo) seria possível adicioná-la ao banco;  \n",
    "* Seguindo a modificação do Paciente, foram adicionadas duas novas classes: Possui e Característica. Cada Paciente possui várias características (N:N), sendo que o valor do relacionamento entre o Paciente e sua Característica fica na classe intermediária Possui - por exemplo, João (Paciente) tem uma Incidência Pélvica (Característica) de valor 60° (Possui) e Maria (Paciente) tem uma Incidência Pélvica (Característica) de 70° (Possui);  \n",
    "* Mudança no nome da classe Doença para Classificação e tipoDoença para classe, pois havia certos pacientes classificados como “Normal”, o que não caracterizava um problema.  \n"
   ]
  },
  {
   "cell_type": "markdown",
   "metadata": {},
   "source": [
    "# Modelo Logico\n",
    "\n",
    "![modelo-logico](../img/modelo-logico.png)"
   ]
  },
  {
   "cell_type": "markdown",
   "metadata": {},
   "source": [
    "# Tabelas Relacionais"
   ]
  },
  {
   "cell_type": "code",
   "execution_count": 4,
   "metadata": {},
   "outputs": [
    {
     "ename": "org.h2.jdbc.JdbcSQLException",
     "evalue": " Column \"IDCLASSIFICACAO\" not found; SQL statement",
     "output_type": "error",
     "text": "org.h2.jdbc.JdbcSQLException: Column \"IDCLASSIFICACAO\" not found; SQL statement:\nCREATE TABLE ClassificacaoTemSintoma (\nIdClassificacaoTemSintoma INTEGER AUTO_INCREMENT,\nidClassificacao INTEGER,\nidSintoma INTEGER,\nPRIMARY KEY(IdClassificacaoTemSintoma),\nFOREIGN KEY(idClassificacao)\nREFERENCES Classificacao(idClassificacao)\nON DELETE CASCADE\nON UPDATE CASCADE,\nFOREIGN KEY(idSintoma)\nREFERENCES Sintoma(idSintoma)\nON DELETE CASCADE\nON UPDATE CASCADE\n) [42122-193]",
     "traceback": [
      "\u001b[1;31morg.h2.jdbc.JdbcSQLException: Column \"IDCLASSIFICACAO\" not found; SQL statement:\u001b[0;0m",
      "\u001b[1;31mCREATE TABLE ClassificacaoTemSintoma (\u001b[0;0m",
      "\u001b[1;31mIdClassificacaoTemSintoma INTEGER AUTO_INCREMENT,\u001b[0;0m",
      "\u001b[1;31midClassificacao INTEGER,\u001b[0;0m",
      "\u001b[1;31midSintoma INTEGER,\u001b[0;0m",
      "\u001b[1;31mPRIMARY KEY(IdClassificacaoTemSintoma),\u001b[0;0m",
      "\u001b[1;31mFOREIGN KEY(idClassificacao)\u001b[0;0m",
      "\u001b[1;31mREFERENCES Classificacao(idClassificacao)\u001b[0;0m",
      "\u001b[1;31mON DELETE CASCADE\u001b[0;0m",
      "\u001b[1;31mON UPDATE CASCADE,\u001b[0;0m",
      "\u001b[1;31mFOREIGN KEY(idSintoma)\u001b[0;0m",
      "\u001b[1;31mREFERENCES Sintoma(idSintoma)\u001b[0;0m",
      "\u001b[1;31mON DELETE CASCADE\u001b[0;0m",
      "\u001b[1;31mON UPDATE CASCADE\u001b[0;0m",
      "\u001b[1;31m) [42122-193]\u001b[0;0m"
     ]
    }
   ],
   "source": [
    "DROP TABLE IF EXISTS ClassificacaoTemSintoma;\n",
    "DROP TABLE IF EXISTS PacientePossuiCaracteristica;\n",
    "DROP TABLE IF EXISTS Caracteristica;\n",
    "DROP TABLE IF EXISTS Sintoma;\n",
    "DROP TABLE IF EXISTS Classificacao;\n",
    "DROP TABLE IF EXISTS Paciente;\n",
    "\n",
    "CREATE TABLE Caracteristica (\n",
    "    nomeCaracteristica VARCHAR(50),\n",
    "    PRIMARY KEY(nomeCaracteristica)\n",
    ");\n",
    "\n",
    "CREATE TABLE Sintoma (\n",
    "    idSintoma INTEGER AUTO_INCREMENT,\n",
    "    localizacaoCorpo VARCHAR(50),\n",
    "    descricao VARCHAR(200),\n",
    "    PRIMARY KEY(idSintoma)\n",
    ");\n",
    "\n",
    "CREATE TABLE Classificacao (\n",
    "    classe VARCHAR(50),\n",
    "    PRIMARY KEY(classe)\n",
    ");\n",
    "\n",
    "CREATE TABLE ClassificacaoTemSintoma (\n",
    "    IdClassificacaoTemSintoma INTEGER AUTO_INCREMENT,\n",
    "    classe VARCHAR(50),\n",
    "    idSintoma INTEGER,\n",
    "    PRIMARY KEY(IdClassificacaoTemSintoma),\n",
    "    FOREIGN KEY(classe)\n",
    "        REFERENCES Classificacao(classe)\n",
    "            ON DELETE CASCADE\n",
    "            ON UPDATE CASCADE,\n",
    "    FOREIGN KEY(idSintoma)\n",
    "        REFERENCES Sintoma(idSintoma)\n",
    "          ON DELETE CASCADE\n",
    "          ON UPDATE CASCADE\n",
    ");\n",
    "\n",
    "CREATE TABLE Paciente (\n",
    "    idPaciente INTEGER AUTO_INCREMENT,\n",
    "    classe VARCHAR(50),\n",
    "    PRIMARY KEY(idPaciente),\n",
    "    FOREIGN KEY(classe)\n",
    "        REFERENCES Classificacao(classe)\n",
    "          ON DELETE CASCADE\n",
    "          ON UPDATE CASCADE\n",
    ");\n",
    "\n",
    "CREATE TABLE PacientePossuiCaracteristica (\n",
    "    idPacienteCaracteristica INTEGER AUTO_INCREMENT, \n",
    "    idPaciente INTEGER,\n",
    "    idCaracteristica INTEGER, \n",
    "    valor DOUBLE,\n",
    "    PRIMARY KEY(idPacienteCaracteristica),\n",
    "    FOREIGN KEY(idPaciente)\n",
    "        REFERENCES Paciente(idPaciente)\n",
    "          ON DELETE CASCADE\n",
    "          ON UPDATE CASCADE,\n",
    "    FOREIGN KEY(idCaracteristica)\n",
    "        REFERENCES Caracteristica(idCaracteristica)\n",
    "          ON DELETE CASCADE\n",
    "          ON UPDATE CASCADE\n",
    ");\n",
    "\n",
    "SELECT * FROM Paciente;\n",
    "SELECT * FROM PacientePossuiCaracteristica;\n",
    "SELECT * FROM Caracteristica;\n",
    "SELECT * FROM Classificacao;\n",
    "SELECT * FROM ClassificacaoTemSintoma;\n",
    "SELECT * FROM Sintoma;"
   ]
  },
  {
   "cell_type": "markdown",
   "metadata": {},
   "source": [
    "# Inserção dos dados no modelo lógico"
   ]
  },
  {
   "cell_type": "code",
   "execution_count": null,
   "metadata": {},
   "outputs": [],
   "source": []
  },
  {
   "cell_type": "code",
   "execution_count": 10,
   "metadata": {},
   "outputs": [
    {
     "data": {
      "application/vnd.jupyter.widget-view+json": {
       "model_id": "740afc84-8605-41ce-9536-3481a0344578",
       "version_major": 2,
       "version_minor": 0
      },
      "method": "display_data"
     },
     "metadata": {},
     "output_type": "display_data"
    }
   ],
   "source": [
    "DROP TABLE IF EXISTS Paciente;\n",
    "DROP TABLE IF EXISTS Classificacao;\n",
    "\n",
    "CREATE TABLE Paciente (\n",
    "    nomeClassificacao VARCHAR(50)\n",
    ") AS SELECT\n",
    "    class\n",
    "FROM column_3C_weka;\n",
    "\n",
    "ALTER TABLE Paciente ADD idPaciente INTEGER AUTO_INCREMENT; \n",
    "ALTER TABLE Paciente ADD CONSTRAINT pk_Paciente PRIMARY KEY (idPaciente);\n",
    "\n",
    "SELECT * FROM Paciente;\n",
    "\n",
    "CREATE TABLE Classificacao (\n",
    "    idClassificacao INTEGER AUTO_INCREMENT,\n",
    "    classe VARCHAR(50),\n",
    "    PRIMARY KEY(classe)\n",
    ");"
   ]
  },
  {
   "cell_type": "code",
   "execution_count": 14,
   "metadata": {},
   "outputs": [
    {
     "ename": "org.h2.jdbc.JdbcSQLException",
     "evalue": " Syntax error in SQL statement \"INSERT INTO CLASSIFICACAO(CLASSE)",
     "output_type": "error",
     "text": "org.h2.jdbc.JdbcSQLException: Syntax error in SQL statement \"INSERT INTO CLASSIFICACAO(CLASSE)\nSELECT DISTINCT NOMECLASSIFICACAO FROM PACIENTE\nSELECT[*] * FROM CLASSIFICACAO \"; SQL statement:\nINSERT INTO Classificacao(classe)\nSELECT DISTINCT NomeClassificacao FROM Paciente\nSELECT * FROM Classificacao [42000-193]",
     "traceback": [
      "\u001b[1;31morg.h2.jdbc.JdbcSQLException: Syntax error in SQL statement \"INSERT INTO CLASSIFICACAO(CLASSE)\u001b[0;0m",
      "\u001b[1;31mSELECT DISTINCT NOMECLASSIFICACAO FROM PACIENTE\u001b[0;0m",
      "\u001b[1;31mSELECT[*] * FROM CLASSIFICACAO \"; SQL statement:\u001b[0;0m",
      "\u001b[1;31mINSERT INTO Classificacao(classe)\u001b[0;0m",
      "\u001b[1;31mSELECT DISTINCT NomeClassificacao FROM Paciente\u001b[0;0m",
      "\u001b[1;31mSELECT * FROM Classificacao [42000-193]\u001b[0;0m"
     ]
    }
   ],
   "source": [
    "INSERT INTO Classificacao(classe)\n",
    "SELECT DISTINCT NomeClassificacao FROM Paciente\n",
    "SELECT * FROM Classificacao;"
   ]
  },
  {
   "cell_type": "code",
   "execution_count": null,
   "metadata": {},
   "outputs": [],
   "source": []
  },
  {
   "cell_type": "markdown",
   "metadata": {},
   "source": [
    "# Querys Criativas"
   ]
  },
  {
   "cell_type": "code",
   "execution_count": null,
   "metadata": {},
   "outputs": [],
   "source": []
  }
 ],
 "metadata": {
  "kernelspec": {
   "display_name": "SQL",
   "language": "SQL",
   "name": "sql"
  },
  "language_info": {
   "codemirror_mode": "sql",
   "file_extension": ".sql",
   "mimetype": "",
   "name": "SQL",
   "nbconverter_exporter": "",
   "version": ""
  }
 },
 "nbformat": 4,
 "nbformat_minor": 2
}
