{
 "cells": [
  {
   "cell_type": "code",
   "execution_count": 1,
   "metadata": {},
   "outputs": [],
   "source": [
    "%defaultDatasource jdbc:h2:mem:db"
   ]
  },
  {
   "cell_type": "markdown",
   "metadata": {},
   "source": [
    "# Base de Dados"
   ]
  },
  {
   "cell_type": "code",
   "execution_count": 2,
   "metadata": {},
   "outputs": [],
   "source": [
    "CREATE TABLE column_3C_weka (\n",
    "    pelvic_incidence DOUBLE,\n",
    "    pelvic_tilt DOUBLE,\n",
    "    lumbar_lordosis_angle DOUBLE,\n",
    "    sacral_slope DOUBLE,\n",
    "    pelvic_radius DOUBLE,\n",
    "    degree_spondylolisthesis DOUBLE,\n",
    "    class VARCHAR(50)\n",
    ") AS SELECT\n",
    "    pelvic_incidence,\n",
    "    pelvic_tilt,\n",
    "    lumbar_lordosis_angle,\n",
    "    sacral_slope,\n",
    "    pelvic_radius,\n",
    "    degree_spondylolisthesis,\n",
    "    class\n",
    "FROM CSVREAD('../data/column_3C_weka.csv');\n",
    "\n",
    "ALTER TABLE column_3c_weka\n",
    "ADD idPaciente INTEGER AUTO_INCREMENT;"
   ]
  },
  {
   "cell_type": "code",
   "execution_count": 3,
   "metadata": {},
   "outputs": [
    {
     "data": {
      "application/vnd.jupyter.widget-view+json": {
       "model_id": "6b1c6a1f-2186-40da-8ea4-2adb25a7bb08",
       "version_major": 2,
       "version_minor": 0
      },
      "method": "display_data"
     },
     "metadata": {},
     "output_type": "display_data"
    }
   ],
   "source": [
    "SELECT * FROM column_3c_weka;"
   ]
  },
  {
   "cell_type": "markdown",
   "metadata": {},
   "source": [
    "# Modelo Conceitual\n",
    "\n",
    "### Antes:\n",
    "![uml-etapa01](../img/uml-etapa01.png)\n",
    "\n",
    "### Depois:\n",
    "![uml-etapa02](../img/UML-etapa-02.png)\n",
    "\n",
    "#### Motivo\n",
    "* Modificação nos atributos da classe Paciente: agora ela possui somente o identificador do paciente chamado idPaciente, os atributos referentes à situação do mesmo (como Incidência Pélvica, Versão Pélvica, etc) foram transferidos para outras classes a fim de que se pudesse, caso surgisse uma nova característica (novo tipo de medição da Pelve, por exemplo) seria possível adicioná-la ao banco;  \n",
    "* Seguindo a modificação do Paciente, foram adicionadas duas novas classes: Possui e Característica. Cada Paciente possui várias características (N:N), sendo que o valor do relacionamento entre o Paciente e sua Característica fica na classe intermediária Possui - por exemplo, João (Paciente) tem uma Incidência Pélvica (Característica) de valor 60° (Possui) e Maria (Paciente) tem uma Incidência Pélvica (Característica) de 70° (Possui);  \n",
    "* Mudança no nome da classe Doença para Classificação e tipoDoença para classe, pois havia certos pacientes classificados como “Normal”, o que não caracterizava um problema.  \n"
   ]
  },
  {
   "cell_type": "markdown",
   "metadata": {},
   "source": [
    "# Modelo Logico\n",
    "\n",
    "![modelo-logico](../img/modelo-logico.png)"
   ]
  },
  {
   "cell_type": "markdown",
   "metadata": {},
   "source": [
    "# Tabelas Relacionais"
   ]
  },
  {
   "cell_type": "code",
   "execution_count": 4,
   "metadata": {},
   "outputs": [],
   "source": [
    "DROP TABLE IF EXISTS ClassificacaoTemSintoma;\n",
    "DROP TABLE IF EXISTS PacientePossuiCaracteristica;\n",
    "DROP TABLE IF EXISTS Caracteristica;\n",
    "DROP TABLE IF EXISTS Sintoma;\n",
    "DROP TABLE IF EXISTS Classificacao;\n",
    "DROP TABLE IF EXISTS Paciente;\n",
    "\n",
    "CREATE TABLE Caracteristica (\n",
    "    nomeCaracteristica VARCHAR(50),\n",
    "    PRIMARY KEY(nomeCaracteristica)\n",
    ");\n",
    "\n",
    "CREATE TABLE Sintoma (\n",
    "    idSintoma INTEGER AUTO_INCREMENT,\n",
    "    localizacaoCorpo VARCHAR(50),\n",
    "    descricao VARCHAR(200),\n",
    "    PRIMARY KEY(idSintoma)\n",
    ");\n",
    "\n",
    "CREATE TABLE Classificacao (\n",
    "    classe VARCHAR(50),\n",
    "    PRIMARY KEY(classe)\n",
    ");\n",
    "\n",
    "CREATE TABLE ClassificacaoTemSintoma (\n",
    "    IdClassificacaoTemSintoma INTEGER AUTO_INCREMENT,\n",
    "    classe VARCHAR(50),\n",
    "    idSintoma INTEGER,\n",
    "    FOREIGN KEY(classe)\n",
    "        REFERENCES Classificacao(classe)\n",
    "            ON DELETE CASCADE\n",
    "            ON UPDATE CASCADE,\n",
    "    FOREIGN KEY(idSintoma)\n",
    "        REFERENCES Sintoma(idSintoma)\n",
    "          ON DELETE CASCADE\n",
    "          ON UPDATE CASCADE\n",
    ");\n",
    "\n",
    "CREATE TABLE Paciente (\n",
    "    idPaciente INTEGER AUTO_INCREMENT,\n",
    "    classe VARCHAR(50),\n",
    "    PRIMARY KEY(idPaciente),\n",
    "    FOREIGN KEY(classe)\n",
    "        REFERENCES Classificacao(classe)\n",
    "          ON DELETE CASCADE\n",
    "          ON UPDATE CASCADE\n",
    ");\n",
    "\n",
    "CREATE TABLE PacientePossuiCaracteristica (\n",
    "    idPacienteCaracteristica INTEGER AUTO_INCREMENT, \n",
    "    idPaciente INTEGER,\n",
    "    nomeCaracteristica VARCHAR(50), \n",
    "    valor DOUBLE,\n",
    "    PRIMARY KEY(idPacienteCaracteristica),\n",
    "    FOREIGN KEY(idPaciente)\n",
    "        REFERENCES Paciente(idPaciente)\n",
    "          ON DELETE CASCADE\n",
    "          ON UPDATE CASCADE,\n",
    "    FOREIGN KEY(nomeCaracteristica)\n",
    "        REFERENCES Caracteristica(nomeCaracteristica)\n",
    "          ON DELETE CASCADE\n",
    "          ON UPDATE CASCADE\n",
    ");"
   ]
  },
  {
   "cell_type": "markdown",
   "metadata": {},
   "source": [
    "# Inserção dos dados no modelo lógico"
   ]
  },
  {
   "cell_type": "markdown",
   "metadata": {},
   "source": [
    "Inserção das classificações possíveis (Hérnia, Normal e Espondilolistese)"
   ]
  },
  {
   "cell_type": "code",
   "execution_count": 5,
   "metadata": {},
   "outputs": [],
   "source": [
    "INSERT INTO Classificacao(classe)\n",
    "SELECT DISTINCT class FROM column_3C_weka;"
   ]
  },
  {
   "cell_type": "markdown",
   "metadata": {},
   "source": [
    "Inserção dos pacientes"
   ]
  },
  {
   "cell_type": "code",
   "execution_count": 6,
   "metadata": {},
   "outputs": [],
   "source": [
    "INSERT INTO Paciente(idPaciente, classe)\n",
    "SELECT idPaciente, class FROM column_3c_weka;"
   ]
  },
  {
   "cell_type": "markdown",
   "metadata": {},
   "source": [
    "Inserção das características dos pacientes (Inclinação Sacral, Versão Pélvica, etc)"
   ]
  },
  {
   "cell_type": "code",
   "execution_count": 7,
   "metadata": {},
   "outputs": [],
   "source": [
    "INSERT INTO Caracteristica (nomeCaracteristica) VALUES \n",
    "('Incidencia Pelvica'),\n",
    "('Versao Pelvica'),\n",
    "('Angulo Lordose Lombar'),\n",
    "('Inclinacao Sacral'),\n",
    "('Raio Pelvico'),\n",
    "('Grau de Espondilolistese'); "
   ]
  },
  {
   "cell_type": "markdown",
   "metadata": {},
   "source": [
    "Inserção dos valores das características de cada paciente"
   ]
  },
  {
   "cell_type": "code",
   "execution_count": 8,
   "metadata": {},
   "outputs": [],
   "source": [
    "INSERT INTO PacientePossuiCaracteristica (idPaciente, valor)\n",
    "SELECT idPaciente, pelvic_incidence FROM column_3c_weka;\n",
    "\n",
    "UPDATE PacientePossuiCaracteristica SET NomeCaracteristica = 'Incidencia Pelvica' \n",
    "WHERE idPacienteCaracteristica >= 1 AND idPacienteCaracteristica <= 310;"
   ]
  },
  {
   "cell_type": "code",
   "execution_count": 9,
   "metadata": {},
   "outputs": [],
   "source": [
    "INSERT INTO PacientePossuiCaracteristica (idPaciente, valor)\n",
    "SELECT idPaciente, pelvic_tilt FROM column_3c_weka;\n",
    "\n",
    "UPDATE PacientePossuiCaracteristica SET NomeCaracteristica = 'Versao Pelvica' \n",
    "WHERE idPacienteCaracteristica >= 311 AND idPacienteCaracteristica <= 620;"
   ]
  },
  {
   "cell_type": "code",
   "execution_count": 10,
   "metadata": {},
   "outputs": [],
   "source": [
    "INSERT INTO PacientePossuiCaracteristica (idPaciente, valor)\n",
    "SELECT idPaciente, lumbar_lordosis_angle FROM column_3c_weka;\n",
    "\n",
    "UPDATE PacientePossuiCaracteristica SET NomeCaracteristica = 'Angulo Lordose Lombar' \n",
    "WHERE idPacienteCaracteristica >= 621 AND idPacienteCaracteristica <= 930;"
   ]
  },
  {
   "cell_type": "code",
   "execution_count": 11,
   "metadata": {},
   "outputs": [],
   "source": [
    "INSERT INTO PacientePossuiCaracteristica (idPaciente, valor)\n",
    "SELECT idPaciente, sacral_slope FROM column_3c_weka;\n",
    "\n",
    "UPDATE PacientePossuiCaracteristica SET NomeCaracteristica = 'Inclinacao Sacral' \n",
    "WHERE idPacienteCaracteristica >= 931 AND idPacienteCaracteristica <= 1240;"
   ]
  },
  {
   "cell_type": "code",
   "execution_count": 12,
   "metadata": {},
   "outputs": [],
   "source": [
    "INSERT INTO PacientePossuiCaracteristica (idPaciente, valor)\n",
    "SELECT idPaciente, pelvic_radius FROM column_3c_weka;\n",
    "\n",
    "UPDATE PacientePossuiCaracteristica SET NomeCaracteristica = 'Raio Pelvico' \n",
    "WHERE idPacienteCaracteristica >= 1241 AND idPacienteCaracteristica <= 1550;"
   ]
  },
  {
   "cell_type": "code",
   "execution_count": 13,
   "metadata": {},
   "outputs": [],
   "source": [
    "INSERT INTO PacientePossuiCaracteristica (idPaciente, valor)\n",
    "SELECT idPaciente, degree_spondylolisthesis FROM column_3c_weka;\n",
    "\n",
    "UPDATE PacientePossuiCaracteristica SET NomeCaracteristica = 'Grau de Espondilolistese' \n",
    "WHERE idPacienteCaracteristica >= 1551 AND idPacienteCaracteristica <= 1860;"
   ]
  },
  {
   "cell_type": "markdown",
   "metadata": {},
   "source": [
    "Inserção dos sintomas possíveis das classificações (Hérnia e Espondilolistese)"
   ]
  },
  {
   "cell_type": "code",
   "execution_count": 14,
   "metadata": {},
   "outputs": [],
   "source": [
    "INSERT INTO Sintoma (localizacaoCorpo, descricao) VALUES \n",
    "('Coluna Lombar','Dor na coluna lombar, parte inferior das costas'),\n",
    "('Glúteos, coxas','Dor ciática'),\n",
    "('Glúteos, braços, mãos','Dormência'),\n",
    "('Corpo todo','Diminuição da força'),\n",
    "('Pernas','Dor ao caminhar'),\n",
    "('Pernas','Fraqueza'),\n",
    "('Coluna, glúteos, perna, calcanhar','Dor intensa'),\n",
    "('Nuca, pescoço','Dor'),\n",
    "('Corpo todo','Dificuldade em se movimentar e abaixar'),\n",
    "('Coluna', 'Sensação de Queimação');"
   ]
  },
  {
   "cell_type": "code",
   "execution_count": 15,
   "metadata": {},
   "outputs": [],
   "source": [
    "INSERT INTO ClassificacaoTemSintoma (classe, idSintoma) VALUES\n",
    "('Spondylolisthesis', 1),\n",
    "('Spondylolisthesis', 2),\n",
    "('Spondylolisthesis', 3),\n",
    "('Spondylolisthesis', 4),\n",
    "('Spondylolisthesis', 5),\n",
    "('Hernia', 6),\n",
    "('Hernia', 7),\n",
    "('Hernia', 8),\n",
    "('Hernia', 9),\n",
    "('Hernia', 10);"
   ]
  },
  {
   "cell_type": "code",
   "execution_count": 16,
   "metadata": {},
   "outputs": [
    {
     "data": {
      "application/vnd.jupyter.widget-view+json": {
       "model_id": "d14b2dd3-fbbe-4afc-af84-e628b838ec53",
       "version_major": 2,
       "version_minor": 0
      },
      "method": "display_data"
     },
     "metadata": {},
     "output_type": "display_data"
    },
    {
     "data": {
      "application/vnd.jupyter.widget-view+json": {
       "model_id": "d9486321-e848-4190-a6cc-d96eacf07845",
       "version_major": 2,
       "version_minor": 0
      },
      "method": "display_data"
     },
     "metadata": {},
     "output_type": "display_data"
    },
    {
     "data": {
      "application/vnd.jupyter.widget-view+json": {
       "model_id": "1f28ee42-0a72-411c-b753-2d67100dc8ec",
       "version_major": 2,
       "version_minor": 0
      },
      "method": "display_data"
     },
     "metadata": {},
     "output_type": "display_data"
    },
    {
     "data": {
      "application/vnd.jupyter.widget-view+json": {
       "model_id": "fe50dde6-615d-47a9-8f6c-81e59fad0677",
       "version_major": 2,
       "version_minor": 0
      },
      "method": "display_data"
     },
     "metadata": {},
     "output_type": "display_data"
    },
    {
     "data": {
      "application/vnd.jupyter.widget-view+json": {
       "model_id": "4d3e57be-a03d-4d71-8be5-4b554e6eb9d1",
       "version_major": 2,
       "version_minor": 0
      },
      "method": "display_data"
     },
     "metadata": {},
     "output_type": "display_data"
    },
    {
     "data": {
      "application/vnd.jupyter.widget-view+json": {
       "model_id": "9eddba14-54a6-41c8-ae0f-caab83225599",
       "version_major": 2,
       "version_minor": 0
      },
      "method": "display_data"
     },
     "metadata": {},
     "output_type": "display_data"
    }
   ],
   "source": [
    "SELECT * FROM Classificacao;\n",
    "SELECT * FROM Sintoma;\n",
    "SELECT * FROM ClassificacaoTemSintoma;\n",
    "SELECT * FROM Paciente;\n",
    "SELECT * FROM Caracteristica;\n",
    "SELECT * FROM PacientePossuiCaracteristica;"
   ]
  },
  {
   "cell_type": "code",
   "execution_count": null,
   "metadata": {},
   "outputs": [],
   "source": []
  },
  {
   "cell_type": "code",
   "execution_count": null,
   "metadata": {},
   "outputs": [],
   "source": []
  },
  {
   "cell_type": "markdown",
   "metadata": {},
   "source": [
    "# Querys Criativas"
   ]
  },
  {
   "cell_type": "code",
   "execution_count": null,
   "metadata": {},
   "outputs": [],
   "source": []
  }
 ],
 "metadata": {
  "kernelspec": {
   "display_name": "SQL",
   "language": "SQL",
   "name": "sql"
  },
  "language_info": {
   "codemirror_mode": "sql",
   "file_extension": ".sql",
   "mimetype": "",
   "name": "SQL",
   "nbconverter_exporter": "",
   "version": ""
  }
 },
 "nbformat": 4,
 "nbformat_minor": 2
}
