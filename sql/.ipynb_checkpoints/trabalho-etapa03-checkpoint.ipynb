{
 "cells": [
  {
   "cell_type": "code",
   "execution_count": 1,
   "metadata": {},
   "outputs": [],
   "source": [
    "%defaultDatasource jdbc:h2:mem:db"
   ]
  },
  {
   "cell_type": "markdown",
   "metadata": {},
   "source": [
    "# Base de Dados"
   ]
  },
  {
   "cell_type": "code",
   "execution_count": 2,
   "metadata": {},
   "outputs": [],
   "source": [
    "CREATE TABLE column_3C_weka (\n",
    "    pelvic_incidence DOUBLE,\n",
    "    pelvic_tilt DOUBLE,\n",
    "    lumbar_lordosis_angle DOUBLE,\n",
    "    sacral_slope DOUBLE,\n",
    "    pelvic_radius DOUBLE,\n",
    "    degree_spondylolisthesis DOUBLE,\n",
    "    class VARCHAR(50)\n",
    ") AS SELECT\n",
    "    pelvic_incidence,\n",
    "    pelvic_tilt,\n",
    "    lumbar_lordosis_angle,\n",
    "    sacral_slope,\n",
    "    pelvic_radius,\n",
    "    degree_spondylolisthesis,\n",
    "    class\n",
    "FROM CSVREAD('../data/column_3C_weka.csv');\n",
    "\n",
    "ALTER TABLE column_3c_weka\n",
    "ADD idPaciente INTEGER AUTO_INCREMENT;"
   ]
  },
  {
   "cell_type": "code",
   "execution_count": 3,
   "metadata": {},
   "outputs": [
    {
     "data": {
      "application/vnd.jupyter.widget-view+json": {
       "model_id": "67755364-cc43-43e3-84a7-0c69485736dd",
       "version_major": 2,
       "version_minor": 0
      },
      "method": "display_data"
     },
     "metadata": {},
     "output_type": "display_data"
    }
   ],
   "source": [
    "SELECT * FROM column_3c_weka;"
   ]
  },
  {
   "cell_type": "markdown",
   "metadata": {},
   "source": [
    "# Modelo Conceitual\n",
    "\n",
    "### Etapa 1:\n",
    "![uml-etapa01](../img/uml-etapa01.png)\n",
    "\n",
    "### Etapa 2:\n",
    "![uml-etapa02](../img/UML-etapa-02.png)\n",
    "\n",
    "\n",
    "### Etapa 3:\n",
    "![uml-etapa03](../img/UML-etapa-03.png)\n",
    "\n",
    "#### Motivo\n",
    "* Modificação nos atributos da classe Paciente: agora ela possui somente o identificador do paciente chamado idPaciente, os atributos referentes à situação do mesmo (como Incidência Pélvica, Versão Pélvica, etc) foram transferidos para outras classes a fim de que se pudesse, caso surgisse uma nova característica (novo tipo de medição da Pelve, por exemplo) seria possível adicioná-la ao banco;  \n",
    "* Seguindo a modificação do Paciente, foram adicionadas duas novas classes: Possui e Característica. Cada Paciente possui várias características (N:N), sendo que o valor do relacionamento entre o Paciente e sua Característica fica na classe intermediária Possui - por exemplo, João (Paciente) tem uma Incidência Pélvica (Característica) de valor 60° (Possui) e Maria (Paciente) tem uma Incidência Pélvica (Característica) de 70° (Possui);  \n",
    "* Mudança no nome da classe Doença para Classificação e tipoDoença para classe, pois havia certos pacientes classificados como “Normal”, o que não caracterizava um problema.  \n"
   ]
  },
  {
   "cell_type": "markdown",
   "metadata": {},
   "source": [
    "# Modelo Logico\n",
    "\n",
    "![modelo-logico](../img/modelo-logico.png)"
   ]
  },
  {
   "cell_type": "markdown",
   "metadata": {},
   "source": [
    "# Tabelas Relacionais"
   ]
  },
  {
   "cell_type": "code",
   "execution_count": 4,
   "metadata": {},
   "outputs": [],
   "source": [
    "DROP TABLE IF EXISTS ClassificacaoTemSintoma;\n",
    "DROP TABLE IF EXISTS PacientePossuiCaracteristica;\n",
    "DROP TABLE IF EXISTS Caracteristica;\n",
    "DROP TABLE IF EXISTS Sintoma;\n",
    "DROP TABLE IF EXISTS Classificacao;\n",
    "DROP TABLE IF EXISTS Paciente;\n",
    "\n",
    "CREATE TABLE Caracteristica (\n",
    "    nomeCaracteristica VARCHAR(50),\n",
    "    PRIMARY KEY(nomeCaracteristica)\n",
    ");\n",
    "\n",
    "CREATE TABLE Sintoma (\n",
    "    idSintoma INTEGER AUTO_INCREMENT,\n",
    "    localizacaoCorpo VARCHAR(50),\n",
    "    descricao VARCHAR(200),\n",
    "    PRIMARY KEY(idSintoma)\n",
    ");\n",
    "\n",
    "CREATE TABLE Classificacao (\n",
    "    classe VARCHAR(50),\n",
    "    PRIMARY KEY(classe)\n",
    ");\n",
    "\n",
    "CREATE TABLE ClassificacaoTemSintoma (\n",
    "    IdClassificacaoTemSintoma INTEGER AUTO_INCREMENT,\n",
    "    classe VARCHAR(50),\n",
    "    idSintoma INTEGER,\n",
    "    FOREIGN KEY(classe)\n",
    "        REFERENCES Classificacao(classe)\n",
    "            ON DELETE CASCADE\n",
    "            ON UPDATE CASCADE,\n",
    "    FOREIGN KEY(idSintoma)\n",
    "        REFERENCES Sintoma(idSintoma)\n",
    "          ON DELETE CASCADE\n",
    "          ON UPDATE CASCADE\n",
    ");\n",
    "\n",
    "CREATE TABLE Paciente (\n",
    "    idPaciente INTEGER AUTO_INCREMENT,\n",
    "    classe VARCHAR(50),\n",
    "    PRIMARY KEY(idPaciente),\n",
    "    FOREIGN KEY(classe)\n",
    "        REFERENCES Classificacao(classe)\n",
    "          ON DELETE CASCADE\n",
    "          ON UPDATE CASCADE\n",
    ");\n",
    "\n",
    "CREATE TABLE PacientePossuiCaracteristica (\n",
    "    idPacienteCaracteristica INTEGER AUTO_INCREMENT, \n",
    "    idPaciente INTEGER,\n",
    "    nomeCaracteristica VARCHAR(50), \n",
    "    valor DOUBLE,\n",
    "    PRIMARY KEY(idPacienteCaracteristica),\n",
    "    FOREIGN KEY(idPaciente)\n",
    "        REFERENCES Paciente(idPaciente)\n",
    "          ON DELETE CASCADE\n",
    "          ON UPDATE CASCADE,\n",
    "    FOREIGN KEY(nomeCaracteristica)\n",
    "        REFERENCES Caracteristica(nomeCaracteristica)\n",
    "          ON DELETE CASCADE\n",
    "          ON UPDATE CASCADE\n",
    ");"
   ]
  },
  {
   "cell_type": "markdown",
   "metadata": {},
   "source": [
    "# Inserção dos dados no modelo lógico"
   ]
  },
  {
   "cell_type": "markdown",
   "metadata": {},
   "source": [
    "Inserção das classificações possíveis (Hérnia, Normal e Espondilolistese)"
   ]
  },
  {
   "cell_type": "code",
   "execution_count": 5,
   "metadata": {},
   "outputs": [],
   "source": [
    "INSERT INTO Classificacao(classe)\n",
    "SELECT DISTINCT class FROM column_3C_weka;"
   ]
  },
  {
   "cell_type": "markdown",
   "metadata": {},
   "source": [
    "Inserção dos pacientes"
   ]
  },
  {
   "cell_type": "code",
   "execution_count": 6,
   "metadata": {},
   "outputs": [],
   "source": [
    "INSERT INTO Paciente(idPaciente, classe)\n",
    "SELECT idPaciente, class FROM column_3c_weka;"
   ]
  },
  {
   "cell_type": "markdown",
   "metadata": {},
   "source": [
    "Inserção das características dos pacientes (Inclinação Sacral, Versão Pélvica, etc)"
   ]
  },
  {
   "cell_type": "code",
   "execution_count": 7,
   "metadata": {},
   "outputs": [],
   "source": [
    "INSERT INTO Caracteristica (nomeCaracteristica) VALUES \n",
    "('Incidencia Pelvica'),\n",
    "('Versao Pelvica'),\n",
    "('Angulo Lordose Lombar'),\n",
    "('Inclinacao Sacral'),\n",
    "('Raio Pelvico'),\n",
    "('Grau de Espondilolistese'); "
   ]
  },
  {
   "cell_type": "markdown",
   "metadata": {},
   "source": [
    "Inserção dos valores das características de cada paciente"
   ]
  },
  {
   "cell_type": "code",
   "execution_count": 8,
   "metadata": {},
   "outputs": [],
   "source": [
    "INSERT INTO PacientePossuiCaracteristica (idPaciente, valor)\n",
    "SELECT idPaciente, pelvic_incidence FROM column_3c_weka;\n",
    "\n",
    "UPDATE PacientePossuiCaracteristica SET NomeCaracteristica = 'Incidencia Pelvica' \n",
    "WHERE idPacienteCaracteristica >= 1 AND idPacienteCaracteristica <= 310;"
   ]
  },
  {
   "cell_type": "code",
   "execution_count": 9,
   "metadata": {},
   "outputs": [],
   "source": [
    "INSERT INTO PacientePossuiCaracteristica (idPaciente, valor)\n",
    "SELECT idPaciente, pelvic_tilt FROM column_3c_weka;\n",
    "\n",
    "UPDATE PacientePossuiCaracteristica SET NomeCaracteristica = 'Versao Pelvica' \n",
    "WHERE idPacienteCaracteristica >= 311 AND idPacienteCaracteristica <= 620;"
   ]
  },
  {
   "cell_type": "code",
   "execution_count": 10,
   "metadata": {},
   "outputs": [],
   "source": [
    "INSERT INTO PacientePossuiCaracteristica (idPaciente, valor)\n",
    "SELECT idPaciente, lumbar_lordosis_angle FROM column_3c_weka;\n",
    "\n",
    "UPDATE PacientePossuiCaracteristica SET NomeCaracteristica = 'Angulo Lordose Lombar' \n",
    "WHERE idPacienteCaracteristica >= 621 AND idPacienteCaracteristica <= 930;"
   ]
  },
  {
   "cell_type": "code",
   "execution_count": 11,
   "metadata": {},
   "outputs": [],
   "source": [
    "INSERT INTO PacientePossuiCaracteristica (idPaciente, valor)\n",
    "SELECT idPaciente, sacral_slope FROM column_3c_weka;\n",
    "\n",
    "UPDATE PacientePossuiCaracteristica SET NomeCaracteristica = 'Inclinacao Sacral' \n",
    "WHERE idPacienteCaracteristica >= 931 AND idPacienteCaracteristica <= 1240;"
   ]
  },
  {
   "cell_type": "code",
   "execution_count": 12,
   "metadata": {},
   "outputs": [],
   "source": [
    "INSERT INTO PacientePossuiCaracteristica (idPaciente, valor)\n",
    "SELECT idPaciente, pelvic_radius FROM column_3c_weka;\n",
    "\n",
    "UPDATE PacientePossuiCaracteristica SET NomeCaracteristica = 'Raio Pelvico' \n",
    "WHERE idPacienteCaracteristica >= 1241 AND idPacienteCaracteristica <= 1550;"
   ]
  },
  {
   "cell_type": "code",
   "execution_count": 13,
   "metadata": {},
   "outputs": [],
   "source": [
    "INSERT INTO PacientePossuiCaracteristica (idPaciente, valor)\n",
    "SELECT idPaciente, degree_spondylolisthesis FROM column_3c_weka;\n",
    "\n",
    "UPDATE PacientePossuiCaracteristica SET NomeCaracteristica = 'Grau de Espondilolistese' \n",
    "WHERE idPacienteCaracteristica >= 1551 AND idPacienteCaracteristica <= 1860;"
   ]
  },
  {
   "cell_type": "markdown",
   "metadata": {},
   "source": [
    "Inserção dos sintomas possíveis das classificações (Hérnia e Espondilolistese)"
   ]
  },
  {
   "cell_type": "code",
   "execution_count": 14,
   "metadata": {},
   "outputs": [],
   "source": [
    "INSERT INTO Sintoma (localizacaoCorpo, descricao) VALUES \n",
    "('Coluna Lombar','Dor na coluna lombar, parte inferior das costas'),\n",
    "('Glúteos, coxas','Dor ciática'),\n",
    "('Glúteos, braços, mãos','Dormência'),\n",
    "('Corpo todo','Diminuição da força'),\n",
    "('Pernas','Dor ao caminhar'),\n",
    "('Pernas','Fraqueza'),\n",
    "('Coluna, glúteos, perna, calcanhar','Dor intensa'),\n",
    "('Nuca, pescoço','Dor'),\n",
    "('Corpo todo','Dificuldade em se movimentar e abaixar'),\n",
    "('Coluna', 'Sensação de Queimação');"
   ]
  },
  {
   "cell_type": "code",
   "execution_count": 15,
   "metadata": {},
   "outputs": [],
   "source": [
    "INSERT INTO ClassificacaoTemSintoma (classe, idSintoma) VALUES\n",
    "('Spondylolisthesis', 1),\n",
    "('Spondylolisthesis', 2),\n",
    "('Spondylolisthesis', 3),\n",
    "('Spondylolisthesis', 4),\n",
    "('Spondylolisthesis', 5),\n",
    "('Hernia', 6),\n",
    "('Hernia', 7),\n",
    "('Hernia', 8),\n",
    "('Hernia', 9),\n",
    "('Hernia', 10);"
   ]
  },
  {
   "cell_type": "code",
   "execution_count": 16,
   "metadata": {},
   "outputs": [
    {
     "data": {
      "application/vnd.jupyter.widget-view+json": {
       "model_id": "c0b10147-a83b-475e-be64-9dfd36c929f6",
       "version_major": 2,
       "version_minor": 0
      },
      "method": "display_data"
     },
     "metadata": {},
     "output_type": "display_data"
    },
    {
     "data": {
      "application/vnd.jupyter.widget-view+json": {
       "model_id": "add7352c-ef81-46d5-aef2-35a684f3efe9",
       "version_major": 2,
       "version_minor": 0
      },
      "method": "display_data"
     },
     "metadata": {},
     "output_type": "display_data"
    },
    {
     "data": {
      "application/vnd.jupyter.widget-view+json": {
       "model_id": "4c89e985-715d-44fe-a97d-34f85c076c65",
       "version_major": 2,
       "version_minor": 0
      },
      "method": "display_data"
     },
     "metadata": {},
     "output_type": "display_data"
    },
    {
     "data": {
      "application/vnd.jupyter.widget-view+json": {
       "model_id": "5a341581-7b67-44ab-b10b-6837fb8d2aa0",
       "version_major": 2,
       "version_minor": 0
      },
      "method": "display_data"
     },
     "metadata": {},
     "output_type": "display_data"
    },
    {
     "data": {
      "application/vnd.jupyter.widget-view+json": {
       "model_id": "6fe3854c-e8b1-4e3c-ae26-6692605be2ea",
       "version_major": 2,
       "version_minor": 0
      },
      "method": "display_data"
     },
     "metadata": {},
     "output_type": "display_data"
    },
    {
     "data": {
      "application/vnd.jupyter.widget-view+json": {
       "model_id": "6d32cc3f-ddb1-4101-bdbc-f0079a3e9195",
       "version_major": 2,
       "version_minor": 0
      },
      "method": "display_data"
     },
     "metadata": {},
     "output_type": "display_data"
    }
   ],
   "source": [
    "SELECT * FROM Classificacao;\n",
    "SELECT * FROM Sintoma;\n",
    "SELECT * FROM ClassificacaoTemSintoma;\n",
    "SELECT * FROM Paciente;\n",
    "SELECT * FROM Caracteristica;\n",
    "SELECT * FROM PacientePossuiCaracteristica;"
   ]
  },
  {
   "cell_type": "markdown",
   "metadata": {},
   "source": [
    "# Querys Criativas"
   ]
  },
  {
   "cell_type": "code",
   "execution_count": 17,
   "metadata": {},
   "outputs": [
    {
     "data": {
      "application/vnd.jupyter.widget-view+json": {
       "model_id": "5129054e-1acb-4bf3-88f8-6ec93f70cb5b",
       "version_major": 2,
       "version_minor": 0
      },
      "method": "display_data"
     },
     "metadata": {},
     "output_type": "display_data"
    }
   ],
   "source": [
    "-- mostra doenca que a pessoa tem dado raio pelvico > 140\n",
    "SELECT p.idpaciente, p.classe, ppc.valor\n",
    "FROM PacientePossuiCaracteristica ppc, Paciente p\n",
    "WHERE ppc.valor > 140 and ppc.nomecaracteristica = 'Raio Pelvico' and p.idpaciente = ppc.idpaciente"
   ]
  },
  {
   "cell_type": "code",
   "execution_count": 18,
   "metadata": {},
   "outputs": [
    {
     "data": {
      "application/vnd.jupyter.widget-view+json": {
       "model_id": "ce3c859b-521e-4286-ab04-fb4448cb668c",
       "version_major": 2,
       "version_minor": 0
      },
      "method": "display_data"
     },
     "metadata": {},
     "output_type": "display_data"
    }
   ],
   "source": [
    "-- mostra doenca que a pessoa tem dado Angulo Lordose Lombar\n",
    "SELECT p.idpaciente, p.classe, ppc.valor\n",
    "FROM PacientePossuiCaracteristica ppc, Paciente p\n",
    "WHERE ppc.valor > 80 and ppc.nomecaracteristica = 'Angulo Lordose Lombar' and p.idpaciente = ppc.idpaciente"
   ]
  },
  {
   "cell_type": "code",
   "execution_count": 19,
   "metadata": {},
   "outputs": [
    {
     "data": {
      "application/vnd.jupyter.widget-view+json": {
       "model_id": "75327caf-a251-4a24-8527-7d8616f6d3a3",
       "version_major": 2,
       "version_minor": 0
      },
      "method": "display_data"
     },
     "metadata": {},
     "output_type": "display_data"
    }
   ],
   "source": [
    "-- conta a quantidade de ocorrencias de cada doenca nessa base de dados\n",
    "SELECT p.classe, count(*) as ocorrencias\n",
    "FROM Paciente p\n",
    "GROUP BY p.classe;"
   ]
  },
  {
   "cell_type": "code",
   "execution_count": 20,
   "metadata": {},
   "outputs": [
    {
     "data": {
      "application/vnd.jupyter.widget-view+json": {
       "model_id": "6fd5c67a-c70a-4513-a369-eee974f2de1e",
       "version_major": 2,
       "version_minor": 0
      },
      "method": "display_data"
     },
     "metadata": {},
     "output_type": "display_data"
    },
    {
     "data": {
      "application/vnd.jupyter.widget-view+json": {
       "model_id": "149acac4-5e0d-4336-a906-07d4a10eb517",
       "version_major": 2,
       "version_minor": 0
      },
      "method": "display_data"
     },
     "metadata": {},
     "output_type": "display_data"
    },
    {
     "data": {
      "application/vnd.jupyter.widget-view+json": {
       "model_id": "97c1a4c1-aa80-4c89-970a-75a168339bbe",
       "version_major": 2,
       "version_minor": 0
      },
      "method": "display_data"
     },
     "metadata": {},
     "output_type": "display_data"
    },
    {
     "data": {
      "application/vnd.jupyter.widget-view+json": {
       "model_id": "1a9286c2-9426-4bc2-a5a2-979062dd673f",
       "version_major": 2,
       "version_minor": 0
      },
      "method": "display_data"
     },
     "metadata": {},
     "output_type": "display_data"
    }
   ],
   "source": [
    "-- permite ver os min e max de cada atributo dado a classificacao do paciente\n",
    "SELECT p.classe, ppc.nomecaracteristica, min(ppc.valor), max(ppc.valor), avg(ppc.valor)\n",
    "FROM Paciente p, PacientePossuiCaracteristica ppc\n",
    "WHERE p.idpaciente = ppc.idpaciente and p.classe = 'Normal'\n",
    "GROUP BY ppc.nomecaracteristica;\n",
    "\n",
    "SELECT p.classe, ppc.nomecaracteristica, min(ppc.valor), max(ppc.valor), avg(ppc.valor)\n",
    "FROM Paciente p, PacientePossuiCaracteristica ppc\n",
    "WHERE p.idpaciente = ppc.idpaciente and p.classe = 'Spondylolisthesis'\n",
    "GROUP BY ppc.nomecaracteristica;\n",
    "\n",
    "SELECT p.classe, ppc.nomecaracteristica, min(ppc.valor), max(ppc.valor), avg(ppc.valor)\n",
    "FROM Paciente p, PacientePossuiCaracteristica ppc\n",
    "WHERE p.idpaciente = ppc.idpaciente and p.classe = 'Hernia'\n",
    "GROUP BY ppc.nomecaracteristica;\n",
    "\n",
    "-- todos\n",
    "SELECT ppc.nomecaracteristica, min(ppc.valor), max(ppc.valor), avg(ppc.valor)\n",
    "FROM Paciente p, PacientePossuiCaracteristica ppc\n",
    "WHERE p.idpaciente = ppc.idpaciente\n",
    "GROUP BY ppc.nomecaracteristica;"
   ]
  },
  {
   "cell_type": "code",
   "execution_count": 21,
   "metadata": {},
   "outputs": [
    {
     "data": {
      "application/vnd.jupyter.widget-view+json": {
       "model_id": "3b86198b-3dd3-4977-af38-01fc8aa2df72",
       "version_major": 2,
       "version_minor": 0
      },
      "method": "display_data"
     },
     "metadata": {},
     "output_type": "display_data"
    }
   ],
   "source": [
    "-- conta quantos pacientes estao acima da media\n",
    "SELECT nomeCaracteristica, COUNT(*) Pacientes\n",
    "FROM PacientePossuiCaracteristica ppc\n",
    "WHERE nomeCaracteristica = 'Incidencia Pelvica'\n",
    "AND Valor > (SELECT avg(pp.valor)\n",
    "             FROM PacientePossuiCaracteristica pp\n",
    "             WHERE nomeCaracteristica = 'Incidencia Pelvica'\n",
    "             GROUP BY pp.nomecaracteristica)\n",
    "GROUP BY nomeCaracteristica;"
   ]
  },
  {
   "cell_type": "code",
   "execution_count": null,
   "metadata": {},
   "outputs": [],
   "source": []
  },
  {
   "cell_type": "code",
   "execution_count": 22,
   "metadata": {},
   "outputs": [
    {
     "data": {
      "application/vnd.jupyter.widget-view+json": {
       "model_id": "1fe5693a-c3fc-4390-9e6d-7241e2e9076d",
       "version_major": 2,
       "version_minor": 0
      },
      "method": "display_data"
     },
     "metadata": {},
     "output_type": "display_data"
    }
   ],
   "source": [
    "-- quantidade de pessoas que relataram dores em certas regioes do corpo\n",
    "SELECT s.localizacaocorpo, count(*)\n",
    "FROM ClassificacaoTemSintoma cts, Sintoma s, Paciente p\n",
    "WHERE cts.idsintoma = s.idsintoma and p.classe = cts.classe\n",
    "GROUP BY s.localizacaocorpo;"
   ]
  },
  {
   "cell_type": "code",
   "execution_count": 23,
   "metadata": {},
   "outputs": [
    {
     "data": {
      "application/vnd.jupyter.widget-view+json": {
       "model_id": "a0de1aea-9ca2-4657-9ac5-1431c9e13a86",
       "version_major": 2,
       "version_minor": 0
      },
      "method": "display_data"
     },
     "metadata": {},
     "output_type": "display_data"
    }
   ],
   "source": [
    "-- analise de pares\n",
    "CREATE OR REPLACE VIEW EfeitoCruzado AS\n",
    "SELECT DISTINCT ppc1.idPaciente Paciente, ppc1.nomeCaracteristica Atributo1, ppc2.nomeCaracteristica Atributo2\n",
    "FROM PacientePossuiCaracteristica ppc1, PacientePossuiCaracteristica ppc2\n",
    "WHERE ppc1.idPaciente = ppc2.idPaciente\n",
    "AND ppc1.nomeCaracteristica <> ppc2.nomeCaracteristica\n",
    "AND ppc1.nomeCaracteristica > ppc2.nomeCaracteristica\n",
    "AND ppc1.valor > (SELECT avg(pp.valor)\n",
    "                    FROM PacientePossuiCaracteristica pp\n",
    "                    WHERE nomeCaracteristica = ppc1.nomeCaracteristica\n",
    "                    GROUP BY pp.nomecaracteristica)\n",
    "AND ppc2.valor > (SELECT avg(pp.valor)\n",
    "                    FROM PacientePossuiCaracteristica pp\n",
    "                    WHERE nomeCaracteristica = ppc2.nomeCaracteristica\n",
    "                    GROUP BY pp.nomecaracteristica)\n",
    "ORDER BY ppc1.idPaciente;\n",
    "\n",
    "SELECT * FROM EfeitoCruzado;"
   ]
  },
  {
   "cell_type": "markdown",
   "metadata": {},
   "source": [
    "# Salvar em CSV"
   ]
  },
  {
   "cell_type": "markdown",
   "metadata": {},
   "source": [
    "# Código em Cypher\n",
    "---\n",
    "\n",
    "![modelo-logico](../img/Cypher-parte3.png)\n",
    "\n",
    "## Upload dos csv, e criação do grafo\n",
    "\n",
    "LOAD CSV WITH HEADERS FROM 'https://raw.githubusercontent.com/thiagolim4/bd_thiago2/master/data/Caracteristica.csv' AS line  \n",
    "CREATE (:Caracteristica { nomecaracteristica: line.NOMECARACTERISTICA})  \n",
    "\n",
    "LOAD CSV WITH HEADERS FROM 'https://raw.githubusercontent.com/thiagolim4/bd_thiago2/master/data/Classificacao.csv' AS line  \n",
    "CREATE (:Classificacao { classe: line.CLASSE})  \n",
    "\n",
    "LOAD CSV WITH HEADERS FROM 'https://raw.githubusercontent.com/thiagolim4/bd_thiago2/master/data/Sintoma.csv' AS line  \n",
    "CREATE (:Sintoma { idsintoma: line.IDSINTOMA, localizacaocorpo: line.LOCALIZACAOCORPO, descricao: line.DESCRICAO})  \n",
    "\n",
    "LOAD CSV WITH HEADERS FROM 'https://raw.githubusercontent.com/thiagolim4/bd_thiago2/master/data/Paciente.csv' AS line  \n",
    "CREATE (:Paciente { idpaciente: line.IDPACIENTE})  \n",
    "\n",
    "## Criação das arestas  \n",
    "\n",
    "-- Paciente -> Classificacao\n",
    "LOAD CSV WITH HEADERS FROM 'https://raw.githubusercontent.com/thiagolim4/bd_thiago2/master/data/Paciente.csv' AS line  \n",
    "MATCH(p:Paciente{idpaciente: line.IDPACIENTE})  \n",
    "MATCH(c:Classificacao{classe: line.CLASSE})  \n",
    "CREATE (p)-[:PacienteTemClassificacao]->(c)  \n",
    "\n",
    "-- Paciente -> caracteristica  \n",
    "LOAD CSV WITH HEADERS FROM 'https://raw.githubusercontent.com/thiagolim4/bd_thiago2/master/data/PacientePossuiCaracteristica.csv' AS line  \n",
    "MATCH(p:Paciente{idpaciente: line.IDPACIENTE})  \n",
    "MATCH(c:Caracteristica{nomecaracteristica: line.NOMECARACTERISTICA})  \n",
    "CREATE (p)-[:PacientePossuiCaracteristica]->(c)  \n",
    "\n",
    "-- classificacao -> sintoma  \n",
    "LOAD CSV WITH HEADERS FROM 'https://raw.githubusercontent.com/thiagolim4/bd_thiago2/master/data/ClassificacaoTemSintoma.csv' AS line  \n",
    "MATCH(c:Classificacao{classe: line.CLASSE})  \n",
    "MATCH(s:Sintoma{idsintoma: line.IDSINTOMA})  \n",
    "CREATE (c)-[:ClassificacaoTemSintoma]->(s)  "
   ]
  },
  {
   "cell_type": "markdown",
   "metadata": {},
   "source": [
    "# Consultas criativas em Cypher\n",
    "---"
   ]
  },
  {
   "cell_type": "code",
   "execution_count": null,
   "metadata": {},
   "outputs": [],
   "source": []
  }
 ],
 "metadata": {
  "kernelspec": {
   "display_name": "SQL",
   "language": "SQL",
   "name": "sql"
  },
  "language_info": {
   "codemirror_mode": "sql",
   "file_extension": ".sql",
   "mimetype": "",
   "name": "SQL",
   "nbconverter_exporter": "",
   "version": ""
  }
 },
 "nbformat": 4,
 "nbformat_minor": 2
}
