{
 "cells": [
  {
   "cell_type": "code",
   "execution_count": 1,
   "metadata": {},
   "outputs": [],
   "source": [
    "%defaultDatasource jdbc:h2:mem:db"
   ]
  },
  {
   "cell_type": "markdown",
   "metadata": {},
   "source": [
    "# Base de Dados"
   ]
  },
  {
   "cell_type": "code",
   "execution_count": 2,
   "metadata": {},
   "outputs": [],
   "source": [
    "CREATE TABLE column_3C_weka (\n",
    "    pelvic_incidence DOUBLE,\n",
    "    pelvic_tilt DOUBLE,\n",
    "    lumbar_lordosis_angle DOUBLE,\n",
    "    sacral_slope DOUBLE,\n",
    "    pelvic_radius DOUBLE,\n",
    "    degree_spondylolisthesis DOUBLE,\n",
    "    class VARCHAR(50)\n",
    ") AS SELECT\n",
    "    pelvic_incidence,\n",
    "    pelvic_tilt,\n",
    "    lumbar_lordosis_angle,\n",
    "    sacral_slope,\n",
    "    pelvic_radius,\n",
    "    degree_spondylolisthesis,\n",
    "    class\n",
    "FROM CSVREAD('../data/column_3C_weka.csv');\n",
    "\n",
    "ALTER TABLE column_3c_weka\n",
    "ADD idPaciente INTEGER AUTO_INCREMENT;"
   ]
  },
  {
   "cell_type": "code",
   "execution_count": 3,
   "metadata": {},
   "outputs": [
    {
     "data": {
      "application/vnd.jupyter.widget-view+json": {
       "model_id": "061eacc4-2bb6-46a8-98a9-482ba0d99744",
       "version_major": 2,
       "version_minor": 0
      },
      "method": "display_data"
     },
     "metadata": {},
     "output_type": "display_data"
    }
   ],
   "source": [
    "SELECT * FROM column_3c_weka;"
   ]
  },
  {
   "cell_type": "markdown",
   "metadata": {},
   "source": [
    "# Modelo Conceitual\n",
    "\n",
    "### Etapa 1:\n",
    "![uml-etapa01](../img/uml-etapa01.png)\n",
    "\n",
    "### Etapa 2:\n",
    "![uml-etapa02](../img/UML-etapa-02.png)\n",
    "\n",
    "\n",
    "### Etapa 3:\n",
    "![uml-etapa03](../img/UML-etapa-03.png)\n",
    "\n",
    "#### Motivo\n",
    "* Modificação nos atributos da classe Paciente: agora ela possui somente o identificador do paciente chamado idPaciente, os atributos referentes à situação do mesmo (como Incidência Pélvica, Versão Pélvica, etc) foram transferidos para outras classes a fim de que se pudesse, caso surgisse uma nova característica (novo tipo de medição da Pelve, por exemplo) seria possível adicioná-la ao banco;  \n",
    "* Seguindo a modificação do Paciente, foram adicionadas duas novas classes: Possui e Característica. Cada Paciente possui várias características (N:N), sendo que o valor do relacionamento entre o Paciente e sua Característica fica na classe intermediária Possui - por exemplo, João (Paciente) tem uma Incidência Pélvica (Característica) de valor 60° (Possui) e Maria (Paciente) tem uma Incidência Pélvica (Característica) de 70° (Possui);  \n",
    "* Mudança no nome da classe Doença para Classificação e tipoDoença para classe, pois havia certos pacientes classificados como “Normal”, o que não caracterizava um problema.  \n"
   ]
  },
  {
   "cell_type": "markdown",
   "metadata": {},
   "source": [
    "# Modelo Logico\n",
    "\n",
    "![modelo-logico](../img/modelo-logico.png)"
   ]
  },
  {
   "cell_type": "markdown",
   "metadata": {},
   "source": [
    "# Tabelas Relacionais"
   ]
  },
  {
   "cell_type": "code",
   "execution_count": 4,
   "metadata": {},
   "outputs": [],
   "source": [
    "DROP TABLE IF EXISTS ClassificacaoTemSintoma;\n",
    "DROP TABLE IF EXISTS PacientePossuiCaracteristica;\n",
    "DROP TABLE IF EXISTS Caracteristica;\n",
    "DROP TABLE IF EXISTS Sintoma;\n",
    "DROP TABLE IF EXISTS Classificacao;\n",
    "DROP TABLE IF EXISTS Paciente;\n",
    "\n",
    "CREATE TABLE Caracteristica (\n",
    "    nomeCaracteristica VARCHAR(50),\n",
    "    PRIMARY KEY(nomeCaracteristica)\n",
    ");\n",
    "\n",
    "CREATE TABLE Sintoma (\n",
    "    idSintoma INTEGER AUTO_INCREMENT,\n",
    "    localizacaoCorpo VARCHAR(50),\n",
    "    descricao VARCHAR(200),\n",
    "    idEspecializacao INTEGER,\n",
    "    PRIMARY KEY(idSintoma),\n",
    "    FOREIGN KEY (idEspecializacao)\n",
    "        REFERENCES Sintoma (idSintoma)\n",
    "            ON DELETE CASCADE\n",
    "            ON UPDATE CASCADE\n",
    ");\n",
    "\n",
    "CREATE TABLE Classificacao (\n",
    "    classe VARCHAR(50),\n",
    "    PRIMARY KEY(classe)\n",
    ");\n",
    "\n",
    "CREATE TABLE ClassificacaoTemSintoma (\n",
    "    IdClassificacaoTemSintoma INTEGER AUTO_INCREMENT,\n",
    "    classe VARCHAR(50),\n",
    "    idSintoma INTEGER,\n",
    "    FOREIGN KEY(classe)\n",
    "        REFERENCES Classificacao(classe)\n",
    "            ON DELETE CASCADE\n",
    "            ON UPDATE CASCADE,\n",
    "    FOREIGN KEY(idSintoma)\n",
    "        REFERENCES Sintoma(idSintoma)\n",
    "          ON DELETE CASCADE\n",
    "          ON UPDATE CASCADE\n",
    ");\n",
    "\n",
    "CREATE TABLE Paciente (\n",
    "    idPaciente INTEGER AUTO_INCREMENT,\n",
    "    classe VARCHAR(50),\n",
    "    PRIMARY KEY(idPaciente),\n",
    "    FOREIGN KEY(classe)\n",
    "        REFERENCES Classificacao(classe)\n",
    "          ON DELETE CASCADE\n",
    "          ON UPDATE CASCADE\n",
    ");\n",
    "\n",
    "CREATE TABLE PacientePossuiCaracteristica (\n",
    "    idPacienteCaracteristica INTEGER AUTO_INCREMENT, \n",
    "    idPaciente INTEGER,\n",
    "    nomeCaracteristica VARCHAR(50), \n",
    "    valor DOUBLE,\n",
    "    PRIMARY KEY(idPacienteCaracteristica),\n",
    "    FOREIGN KEY(idPaciente)\n",
    "        REFERENCES Paciente(idPaciente)\n",
    "          ON DELETE CASCADE\n",
    "          ON UPDATE CASCADE,\n",
    "    FOREIGN KEY(nomeCaracteristica)\n",
    "        REFERENCES Caracteristica(nomeCaracteristica)\n",
    "          ON DELETE CASCADE\n",
    "          ON UPDATE CASCADE\n",
    ");"
   ]
  },
  {
   "cell_type": "markdown",
   "metadata": {},
   "source": [
    "# Inserção dos dados no modelo lógico"
   ]
  },
  {
   "cell_type": "markdown",
   "metadata": {},
   "source": [
    "Inserção das classificações possíveis (Hérnia, Normal e Espondilolistese)"
   ]
  },
  {
   "cell_type": "code",
   "execution_count": 5,
   "metadata": {},
   "outputs": [],
   "source": [
    "INSERT INTO Classificacao(classe)\n",
    "SELECT DISTINCT class FROM column_3C_weka;"
   ]
  },
  {
   "cell_type": "markdown",
   "metadata": {},
   "source": [
    "Inserção dos pacientes"
   ]
  },
  {
   "cell_type": "code",
   "execution_count": 6,
   "metadata": {},
   "outputs": [],
   "source": [
    "INSERT INTO Paciente(idPaciente, classe)\n",
    "SELECT idPaciente, class FROM column_3c_weka;"
   ]
  },
  {
   "cell_type": "markdown",
   "metadata": {},
   "source": [
    "Inserção das características dos pacientes (Inclinação Sacral, Versão Pélvica, etc)"
   ]
  },
  {
   "cell_type": "code",
   "execution_count": 7,
   "metadata": {},
   "outputs": [],
   "source": [
    "INSERT INTO Caracteristica (nomeCaracteristica) VALUES \n",
    "('Incidencia Pelvica'),\n",
    "('Versao Pelvica'),\n",
    "('Angulo Lordose Lombar'),\n",
    "('Inclinacao Sacral'),\n",
    "('Raio Pelvico'),\n",
    "('Grau de Espondilolistese'); "
   ]
  },
  {
   "cell_type": "markdown",
   "metadata": {},
   "source": [
    "Inserção dos valores das características de cada paciente"
   ]
  },
  {
   "cell_type": "code",
   "execution_count": 8,
   "metadata": {},
   "outputs": [],
   "source": [
    "INSERT INTO PacientePossuiCaracteristica (idPaciente, valor)\n",
    "SELECT idPaciente, pelvic_incidence FROM column_3c_weka;\n",
    "\n",
    "UPDATE PacientePossuiCaracteristica SET NomeCaracteristica = 'Incidencia Pelvica' \n",
    "WHERE idPacienteCaracteristica >= 1 AND idPacienteCaracteristica <= 310;"
   ]
  },
  {
   "cell_type": "code",
   "execution_count": 9,
   "metadata": {},
   "outputs": [],
   "source": [
    "INSERT INTO PacientePossuiCaracteristica (idPaciente, valor)\n",
    "SELECT idPaciente, pelvic_tilt FROM column_3c_weka;\n",
    "\n",
    "UPDATE PacientePossuiCaracteristica SET NomeCaracteristica = 'Versao Pelvica' \n",
    "WHERE idPacienteCaracteristica >= 311 AND idPacienteCaracteristica <= 620;"
   ]
  },
  {
   "cell_type": "code",
   "execution_count": 10,
   "metadata": {},
   "outputs": [],
   "source": [
    "INSERT INTO PacientePossuiCaracteristica (idPaciente, valor)\n",
    "SELECT idPaciente, lumbar_lordosis_angle FROM column_3c_weka;\n",
    "\n",
    "UPDATE PacientePossuiCaracteristica SET NomeCaracteristica = 'Angulo Lordose Lombar' \n",
    "WHERE idPacienteCaracteristica >= 621 AND idPacienteCaracteristica <= 930;"
   ]
  },
  {
   "cell_type": "code",
   "execution_count": 11,
   "metadata": {},
   "outputs": [],
   "source": [
    "INSERT INTO PacientePossuiCaracteristica (idPaciente, valor)\n",
    "SELECT idPaciente, sacral_slope FROM column_3c_weka;\n",
    "\n",
    "UPDATE PacientePossuiCaracteristica SET NomeCaracteristica = 'Inclinacao Sacral' \n",
    "WHERE idPacienteCaracteristica >= 931 AND idPacienteCaracteristica <= 1240;"
   ]
  },
  {
   "cell_type": "code",
   "execution_count": 12,
   "metadata": {},
   "outputs": [],
   "source": [
    "INSERT INTO PacientePossuiCaracteristica (idPaciente, valor)\n",
    "SELECT idPaciente, pelvic_radius FROM column_3c_weka;\n",
    "\n",
    "UPDATE PacientePossuiCaracteristica SET NomeCaracteristica = 'Raio Pelvico' \n",
    "WHERE idPacienteCaracteristica >= 1241 AND idPacienteCaracteristica <= 1550;"
   ]
  },
  {
   "cell_type": "code",
   "execution_count": 13,
   "metadata": {},
   "outputs": [],
   "source": [
    "INSERT INTO PacientePossuiCaracteristica (idPaciente, valor)\n",
    "SELECT idPaciente, degree_spondylolisthesis FROM column_3c_weka;\n",
    "\n",
    "UPDATE PacientePossuiCaracteristica SET NomeCaracteristica = 'Grau de Espondilolistese' \n",
    "WHERE idPacienteCaracteristica >= 1551 AND idPacienteCaracteristica <= 1860;"
   ]
  },
  {
   "cell_type": "markdown",
   "metadata": {},
   "source": [
    "Inserção dos sintomas possíveis das classificações (Hérnia e Espondilolistese)"
   ]
  },
  {
   "cell_type": "code",
   "execution_count": 14,
   "metadata": {},
   "outputs": [],
   "source": [
    "INSERT INTO Sintoma (localizacaoCorpo, descricao, idEspecializacao) VALUES \n",
    "('Corpo', '', NULL),\n",
    "('Coluna Lombar','Dor na coluna lombar, parte inferior das costas', NULL),\n",
    "('Glúteos, coxas','Dor ciática', NULL),\n",
    "('Glúteos, braços, mãos','Dormência', NULL),\n",
    "('Corpo todo','Diminuição da força', NULL),\n",
    "('Pernas','Dor ao caminhar', NULL),\n",
    "('Pernas','Fraqueza', NULL),\n",
    "('Coluna, glúteos, perna, calcanhar','Dor intensa', NULL),\n",
    "('Nuca, pescoço','Dor', NULL),\n",
    "('Corpo todo','Dificuldade em se movimentar e abaixar', NULL),\n",
    "('Coluna', 'Sensação de Queimação', 1),\n",
    "('Cervical','', 11),\n",
    "('Toraxico','', 11),\n",
    "('Lombar','', 11),\n",
    "('Pelvico','', 11),\n",
    "('Cabeca','', 1),\n",
    "('Inferior','', 1),\n",
    "('Superior','', 1),\n",
    "('Linha Pectinea','', 15),\n",
    "('Olho','', 16);"
   ]
  },
  {
   "cell_type": "code",
   "execution_count": 15,
   "metadata": {},
   "outputs": [],
   "source": [
    "INSERT INTO ClassificacaoTemSintoma (classe, idSintoma) VALUES\n",
    "('Spondylolisthesis', 1),\n",
    "('Spondylolisthesis', 2),\n",
    "('Spondylolisthesis', 3),\n",
    "('Spondylolisthesis', 4),\n",
    "('Spondylolisthesis', 5),\n",
    "('Hernia', 6),\n",
    "('Hernia', 7),\n",
    "('Hernia', 8),\n",
    "('Hernia', 9),\n",
    "('Hernia', 10);"
   ]
  },
  {
   "cell_type": "code",
   "execution_count": 16,
   "metadata": {},
   "outputs": [
    {
     "data": {
      "application/vnd.jupyter.widget-view+json": {
       "model_id": "671b9af3-47e9-4acd-9e23-0c5828e0ddd5",
       "version_major": 2,
       "version_minor": 0
      },
      "method": "display_data"
     },
     "metadata": {},
     "output_type": "display_data"
    },
    {
     "data": {
      "application/vnd.jupyter.widget-view+json": {
       "model_id": "8b664b42-1bc2-4325-accb-3bf981bfb8fe",
       "version_major": 2,
       "version_minor": 0
      },
      "method": "display_data"
     },
     "metadata": {},
     "output_type": "display_data"
    },
    {
     "data": {
      "application/vnd.jupyter.widget-view+json": {
       "model_id": "45b8a1a3-9f39-476b-b7ff-406004552f8f",
       "version_major": 2,
       "version_minor": 0
      },
      "method": "display_data"
     },
     "metadata": {},
     "output_type": "display_data"
    },
    {
     "data": {
      "application/vnd.jupyter.widget-view+json": {
       "model_id": "acdb8962-f97e-47d8-8ef0-be8a3ce8f2eb",
       "version_major": 2,
       "version_minor": 0
      },
      "method": "display_data"
     },
     "metadata": {},
     "output_type": "display_data"
    },
    {
     "data": {
      "application/vnd.jupyter.widget-view+json": {
       "model_id": "d7a7e5eb-5dd7-4849-bed1-7e7b88a67789",
       "version_major": 2,
       "version_minor": 0
      },
      "method": "display_data"
     },
     "metadata": {},
     "output_type": "display_data"
    },
    {
     "data": {
      "application/vnd.jupyter.widget-view+json": {
       "model_id": "32d1765c-d624-4372-9873-8325f219032e",
       "version_major": 2,
       "version_minor": 0
      },
      "method": "display_data"
     },
     "metadata": {},
     "output_type": "display_data"
    }
   ],
   "source": [
    "SELECT * FROM Classificacao;\n",
    "SELECT * FROM Sintoma;\n",
    "SELECT * FROM ClassificacaoTemSintoma;\n",
    "SELECT * FROM Paciente;\n",
    "SELECT * FROM Caracteristica;\n",
    "SELECT * FROM PacientePossuiCaracteristica;"
   ]
  },
  {
   "cell_type": "markdown",
   "metadata": {},
   "source": [
    "# Querys Criativas"
   ]
  },
  {
   "cell_type": "code",
   "execution_count": 17,
   "metadata": {},
   "outputs": [
    {
     "data": {
      "application/vnd.jupyter.widget-view+json": {
       "model_id": "5a973842-703f-4524-99cf-28b5a97c5d52",
       "version_major": 2,
       "version_minor": 0
      },
      "method": "display_data"
     },
     "metadata": {},
     "output_type": "display_data"
    }
   ],
   "source": [
    "-- mostra doenca que a pessoa tem dado raio pelvico > 140\n",
    "SELECT p.idpaciente, p.classe, ppc.valor\n",
    "FROM PacientePossuiCaracteristica ppc, Paciente p\n",
    "WHERE ppc.valor > 140 and ppc.nomecaracteristica = 'Raio Pelvico' and p.idpaciente = ppc.idpaciente"
   ]
  },
  {
   "cell_type": "code",
   "execution_count": 18,
   "metadata": {},
   "outputs": [
    {
     "data": {
      "application/vnd.jupyter.widget-view+json": {
       "model_id": "8e5eb7fa-8a04-4442-b270-8f14774f9c80",
       "version_major": 2,
       "version_minor": 0
      },
      "method": "display_data"
     },
     "metadata": {},
     "output_type": "display_data"
    }
   ],
   "source": [
    "-- mostra doenca que a pessoa tem dado Angulo Lordose Lombar\n",
    "SELECT p.idpaciente, p.classe, ppc.valor\n",
    "FROM PacientePossuiCaracteristica ppc, Paciente p\n",
    "WHERE ppc.valor > 80 and ppc.nomecaracteristica = 'Angulo Lordose Lombar' and p.idpaciente = ppc.idpaciente"
   ]
  },
  {
   "cell_type": "code",
   "execution_count": 19,
   "metadata": {},
   "outputs": [
    {
     "data": {
      "application/vnd.jupyter.widget-view+json": {
       "model_id": "73d9cb38-217b-4736-ae26-2a3fc049ffa1",
       "version_major": 2,
       "version_minor": 0
      },
      "method": "display_data"
     },
     "metadata": {},
     "output_type": "display_data"
    }
   ],
   "source": [
    "-- conta a quantidade de ocorrencias de cada doenca nessa base de dados\n",
    "SELECT p.classe, count(*) as ocorrencias\n",
    "FROM Paciente p\n",
    "GROUP BY p.classe;"
   ]
  },
  {
   "cell_type": "code",
   "execution_count": 20,
   "metadata": {},
   "outputs": [
    {
     "data": {
      "application/vnd.jupyter.widget-view+json": {
       "model_id": "ecac4390-dc42-4a0e-8668-f0f57a370485",
       "version_major": 2,
       "version_minor": 0
      },
      "method": "display_data"
     },
     "metadata": {},
     "output_type": "display_data"
    },
    {
     "data": {
      "application/vnd.jupyter.widget-view+json": {
       "model_id": "9d316725-61f9-4df7-8737-7ec645507ec8",
       "version_major": 2,
       "version_minor": 0
      },
      "method": "display_data"
     },
     "metadata": {},
     "output_type": "display_data"
    },
    {
     "data": {
      "application/vnd.jupyter.widget-view+json": {
       "model_id": "f8116a30-932c-40cb-b6f4-bbc259465e60",
       "version_major": 2,
       "version_minor": 0
      },
      "method": "display_data"
     },
     "metadata": {},
     "output_type": "display_data"
    },
    {
     "data": {
      "application/vnd.jupyter.widget-view+json": {
       "model_id": "c5fbcea9-6b7d-4151-a7ca-8c5457fd3b4e",
       "version_major": 2,
       "version_minor": 0
      },
      "method": "display_data"
     },
     "metadata": {},
     "output_type": "display_data"
    }
   ],
   "source": [
    "-- permite ver os min e max de cada atributo dado a classificacao do paciente\n",
    "SELECT p.classe, ppc.nomecaracteristica, min(ppc.valor), max(ppc.valor), avg(ppc.valor)\n",
    "FROM Paciente p, PacientePossuiCaracteristica ppc\n",
    "WHERE p.idpaciente = ppc.idpaciente and p.classe = 'Normal'\n",
    "GROUP BY ppc.nomecaracteristica;\n",
    "\n",
    "SELECT p.classe, ppc.nomecaracteristica, min(ppc.valor), max(ppc.valor), avg(ppc.valor)\n",
    "FROM Paciente p, PacientePossuiCaracteristica ppc\n",
    "WHERE p.idpaciente = ppc.idpaciente and p.classe = 'Spondylolisthesis'\n",
    "GROUP BY ppc.nomecaracteristica;\n",
    "\n",
    "SELECT p.classe, ppc.nomecaracteristica, min(ppc.valor), max(ppc.valor), avg(ppc.valor)\n",
    "FROM Paciente p, PacientePossuiCaracteristica ppc\n",
    "WHERE p.idpaciente = ppc.idpaciente and p.classe = 'Hernia'\n",
    "GROUP BY ppc.nomecaracteristica;\n",
    "\n",
    "-- todos\n",
    "SELECT ppc.nomecaracteristica, min(ppc.valor), max(ppc.valor), avg(ppc.valor)\n",
    "FROM Paciente p, PacientePossuiCaracteristica ppc\n",
    "WHERE p.idpaciente = ppc.idpaciente\n",
    "GROUP BY ppc.nomecaracteristica;"
   ]
  },
  {
   "cell_type": "code",
   "execution_count": 21,
   "metadata": {},
   "outputs": [
    {
     "data": {
      "application/vnd.jupyter.widget-view+json": {
       "model_id": "3c5ec410-3bab-4624-9f7a-e6e815c00bb1",
       "version_major": 2,
       "version_minor": 0
      },
      "method": "display_data"
     },
     "metadata": {},
     "output_type": "display_data"
    }
   ],
   "source": [
    "-- conta quantos pacientes estao acima da media\n",
    "SELECT nomeCaracteristica, COUNT(*) Pacientes\n",
    "FROM PacientePossuiCaracteristica ppc\n",
    "WHERE nomeCaracteristica = 'Incidencia Pelvica'\n",
    "AND Valor > (SELECT avg(pp.valor)\n",
    "             FROM PacientePossuiCaracteristica pp\n",
    "             WHERE nomeCaracteristica = 'Incidencia Pelvica'\n",
    "             GROUP BY pp.nomecaracteristica)\n",
    "GROUP BY nomeCaracteristica;"
   ]
  },
  {
   "cell_type": "code",
   "execution_count": null,
   "metadata": {},
   "outputs": [],
   "source": []
  },
  {
   "cell_type": "code",
   "execution_count": 22,
   "metadata": {},
   "outputs": [
    {
     "data": {
      "application/vnd.jupyter.widget-view+json": {
       "model_id": "65c51e90-4915-4bea-96fc-ff3a51dc581d",
       "version_major": 2,
       "version_minor": 0
      },
      "method": "display_data"
     },
     "metadata": {},
     "output_type": "display_data"
    }
   ],
   "source": [
    "-- quantidade de pessoas que relataram dores em certas regioes do corpo\n",
    "SELECT s.localizacaocorpo, count(*)\n",
    "FROM ClassificacaoTemSintoma cts, Sintoma s, Paciente p\n",
    "WHERE cts.idsintoma = s.idsintoma and p.classe = cts.classe\n",
    "GROUP BY s.localizacaocorpo;"
   ]
  },
  {
   "cell_type": "code",
   "execution_count": 23,
   "metadata": {},
   "outputs": [
    {
     "data": {
      "application/vnd.jupyter.widget-view+json": {
       "model_id": "c3012b61-a910-449c-ab1a-dfd02fe3496f",
       "version_major": 2,
       "version_minor": 0
      },
      "method": "display_data"
     },
     "metadata": {},
     "output_type": "display_data"
    }
   ],
   "source": [
    "-- analise de pares\n",
    "CREATE OR REPLACE VIEW EfeitoCruzado AS\n",
    "SELECT DISTINCT ppc1.idPaciente Paciente, ppc1.nomeCaracteristica Atributo1, ppc2.nomeCaracteristica Atributo2\n",
    "FROM PacientePossuiCaracteristica ppc1, PacientePossuiCaracteristica ppc2\n",
    "WHERE ppc1.idPaciente = ppc2.idPaciente\n",
    "AND ppc1.nomeCaracteristica <> ppc2.nomeCaracteristica\n",
    "AND ppc1.nomeCaracteristica > ppc2.nomeCaracteristica\n",
    "AND ppc1.valor > (SELECT avg(pp.valor)\n",
    "                    FROM PacientePossuiCaracteristica pp\n",
    "                    WHERE nomeCaracteristica = ppc1.nomeCaracteristica\n",
    "                    GROUP BY pp.nomecaracteristica)\n",
    "AND ppc2.valor > (SELECT avg(pp.valor)\n",
    "                    FROM PacientePossuiCaracteristica pp\n",
    "                    WHERE nomeCaracteristica = ppc2.nomeCaracteristica\n",
    "                    GROUP BY pp.nomecaracteristica)\n",
    "ORDER BY ppc1.idPaciente;\n",
    "\n",
    "SELECT * FROM EfeitoCruzado;"
   ]
  },
  {
   "cell_type": "markdown",
   "metadata": {},
   "source": [
    "# Salvar em CSV"
   ]
  },
  {
   "cell_type": "code",
   "execution_count": 24,
   "metadata": {},
   "outputs": [
    {
     "data": {
      "application/vnd.jupyter.widget-view+json": {
       "model_id": "1d06f4d3-7c04-46ab-aebd-cfe0c3d1d4cb",
       "version_major": 2,
       "version_minor": 0
      },
      "method": "display_data"
     },
     "metadata": {},
     "output_type": "display_data"
    },
    {
     "data": {
      "application/vnd.jupyter.widget-view+json": {
       "model_id": "76f1eb7d-e60b-4f68-b66b-90b800ff511a",
       "version_major": 2,
       "version_minor": 0
      },
      "method": "display_data"
     },
     "metadata": {},
     "output_type": "display_data"
    },
    {
     "data": {
      "application/vnd.jupyter.widget-view+json": {
       "model_id": "4c6dd837-8070-4445-8a20-74085ca07982",
       "version_major": 2,
       "version_minor": 0
      },
      "method": "display_data"
     },
     "metadata": {},
     "output_type": "display_data"
    },
    {
     "data": {
      "application/vnd.jupyter.widget-view+json": {
       "model_id": "3655a852-1c80-4062-9247-02e84371b1a0",
       "version_major": 2,
       "version_minor": 0
      },
      "method": "display_data"
     },
     "metadata": {},
     "output_type": "display_data"
    },
    {
     "data": {
      "application/vnd.jupyter.widget-view+json": {
       "model_id": "661108b4-76a1-4a5d-b422-8574fd411294",
       "version_major": 2,
       "version_minor": 0
      },
      "method": "display_data"
     },
     "metadata": {},
     "output_type": "display_data"
    }
   ],
   "source": [
    "CALL CSVWRITE('../data/Classificacao.csv', 'SELECT * FROM Classificacao');\n",
    "CALL CSVWRITE('../data/ClassificacaoTemSintoma.csv', 'SELECT * FROM ClassificacaoTemSintoma');\n",
    "CALL CSVWRITE('../data/Paciente.csv', 'SELECT * FROM Paciente');\n",
    "CALL CSVWRITE('../data/Caracteristica.csv', 'SELECT * FROM Caracteristica');\n",
    "CALL CSVWRITE('../data/PacientePossuiCaracteristica.csv', 'SELECT * FROM PacientePossuiCaracteristica');"
   ]
  },
  {
   "cell_type": "markdown",
   "metadata": {},
   "source": [
    "# Código em Cypher\n",
    "---\n",
    "\n",
    "![modelo-logico](../img/Cypher-parte3.png)\n",
    "\n",
    "## Upload dos csv, e criação do grafo\n",
    "\n",
    "LOAD CSV WITH HEADERS FROM 'https://raw.githubusercontent.com/thiagolim4/bd_thiago2/master/data/Caracteristica.csv' AS line  \n",
    "CREATE (:Caracteristica { nomecaracteristica: line.NOMECARACTERISTICA})  \n",
    "\n",
    "LOAD CSV WITH HEADERS FROM 'https://raw.githubusercontent.com/thiagolim4/bd_thiago2/master/data/Classificacao.csv' AS line  \n",
    "CREATE (:Classificacao { classe: line.CLASSE})  \n",
    "\n",
    "LOAD CSV WITH HEADERS FROM 'https://raw.githubusercontent.com/thiagolim4/bd_thiago2/master/data/Sintoma.csv' AS line  \n",
    "CREATE (:Sintoma { idsintoma: line.IDSINTOMA, localizacaocorpo: line.LOCALIZACAOCORPO, descricao: line.DESCRICAO})  \n",
    "\n",
    "LOAD CSV WITH HEADERS FROM 'https://raw.githubusercontent.com/thiagolim4/bd_thiago2/master/data/Paciente.csv' AS line  \n",
    "CREATE (:Paciente { idpaciente: line.IDPACIENTE})  \n",
    "\n",
    "## Criação das arestas  \n",
    "\n",
    "-- Paciente -> Classificacao\n",
    "LOAD CSV WITH HEADERS FROM 'https://raw.githubusercontent.com/thiagolim4/bd_thiago2/master/data/Paciente.csv' AS line  \n",
    "MATCH(p:Paciente{idpaciente: line.IDPACIENTE})  \n",
    "MATCH(c:Classificacao{classe: line.CLASSE})  \n",
    "CREATE (p)-[:PacienteTemClassificacao]->(c)  \n",
    "\n",
    "-- Paciente -> caracteristica  \n",
    "LOAD CSV WITH HEADERS FROM 'https://raw.githubusercontent.com/thiagolim4/bd_thiago2/master/data/PacientePossuiCaracteristica.csv' AS line\n",
    "MATCH(p:Paciente{idpaciente: line.IDPACIENTE})\n",
    "MATCH(c:Caracteristica{nomecaracteristica: line.NOMECARACTERISTICA})\n",
    "CREATE (p)-[:PacientePossuiCaracteristica{valor: line.VALOR}]->(c)\n",
    "\n",
    "-- classificacao -> sintoma  \n",
    "LOAD CSV WITH HEADERS FROM 'https://raw.githubusercontent.com/thiagolim4/bd_thiago2/master/data/ClassificacaoTemSintoma.csv' AS line  \n",
    "MATCH(c:Classificacao{classe: line.CLASSE})  \n",
    "MATCH(s:Sintoma{idsintoma: line.IDSINTOMA})  \n",
    "CREATE (c)-[:ClassificacaoTemSintoma]->(s)  \n",
    "\n",
    "LOAD CSV WITH HEADERS FROM 'https://raw.githubusercontent.com/thiagolim4/bd_thiago2/master/data/Sintoma.csv' AS line  \n",
    "MATCH (i:Sintoma {id:line.idespecializacao})  \n",
    "MATCH (s:Sintoma {id:line.idsintoma})  \n",
    "CREATE (i)-[:especializacao]->(s)  "
   ]
  },
  {
   "cell_type": "markdown",
   "metadata": {},
   "source": [
    "# Consultas criativas em Cypher\n",
    "---\n",
    "MATCH a=(p:Paciente)-[t:PacientePossuiCaracteristica]->(Caracteristica)  \n",
    "WHERE toFloat(t.valor) > 100.0  \n",
    "return a limit 25  \n",
    "\n",
    "MATCH a=(p:Paciente)-[t:PacientePossuiCaracteristica]->(Caracteristica{nomecaracteristica: \"Incidencia Pelvica\"})  \n",
    "WHERE toFloat(t.valor) > 100.0  \n",
    "return a limit 25  \n",
    "\n",
    "MATCH a=(p:Paciente)-[t:PacientePossuiCaracteristica]->(c:Caracteristica)  \n",
    "WHERE toFloat(t.valor) > 70.0 and (c.nomecaracteristica = \"Incidencia Pelvica\" or c.nomecaracteristica = \"Raio Pelvico\")  \n",
    "return a limit 25  \n",
    "\n",
    "\n",
    "CALL algo.pageRank.stream('Sintoma', 'especializacao', {iterations:20, dampingFactor:0.85})  \n",
    "YIELD nodeId, score  \n",
    "\n",
    "RETURN algo.getNodeById(nodeId).idsintoma AS page,score  \n",
    "ORDER BY score DESC  \n"
   ]
  },
  {
   "cell_type": "code",
   "execution_count": null,
   "metadata": {},
   "outputs": [],
   "source": []
  }
 ],
 "metadata": {
  "kernelspec": {
   "display_name": "SQL",
   "language": "SQL",
   "name": "sql"
  },
  "language_info": {
   "codemirror_mode": "sql",
   "file_extension": ".sql",
   "mimetype": "",
   "name": "SQL",
   "nbconverter_exporter": "",
   "version": ""
  },
  "toc": {
   "base_numbering": 1,
   "nav_menu": {},
   "number_sections": false,
   "sideBar": false,
   "skip_h1_title": false,
   "title_cell": "Table of Contents",
   "title_sidebar": "Contents",
   "toc_cell": false,
   "toc_position": {},
   "toc_section_display": false,
   "toc_window_display": false
  }
 },
 "nbformat": 4,
 "nbformat_minor": 2
}
